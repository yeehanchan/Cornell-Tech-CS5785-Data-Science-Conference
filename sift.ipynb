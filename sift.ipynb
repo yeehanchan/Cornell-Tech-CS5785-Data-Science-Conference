{
 "cells": [
  {
   "cell_type": "code",
   "execution_count": 1,
   "metadata": {
    "collapsed": false
   },
   "outputs": [
    {
     "name": "stdout",
     "output_type": "stream",
     "text": [
      "Populating the interactive namespace from numpy and matplotlib\n"
     ]
    }
   ],
   "source": [
    "%pylab inline\n",
    "import rlcompleter, readline\n",
    "readline.parse_and_bind('tab: complete')\n",
    "from sklearn import grid_search\n",
    "from sets import Set"
   ]
  },
  {
   "cell_type": "code",
   "execution_count": 69,
   "metadata": {
    "collapsed": true
   },
   "outputs": [],
   "source": [
    "sift_train = np.load(\"CS5785-final-data/SIFTBoW_train.npy\")\n",
    "train = np.genfromtxt(\"CS5785-final-data/train.txt\",dtype='str')\n",
    "train_label = list(train[:,1])\n",
    "file_name = list(train[:,0])"
   ]
  },
  {
   "cell_type": "code",
   "execution_count": null,
   "metadata": {
    "collapsed": false
   },
   "outputs": [],
   "source": []
  },
  {
   "cell_type": "code",
   "execution_count": 61,
   "metadata": {
    "collapsed": true
   },
   "outputs": [],
   "source": [
    "from sklearn.naive_bayes import MultinomialNB\n",
    "from sklearn.naive_bayes import GaussianNB\n",
    "from sklearn.naive_bayes import BernoulliNB\n",
    "from sklearn.linear_model import LogisticRegression\n",
    "from sklearn.neighbors import KNeighborsClassifier\n",
    "from sklearn.svm import SVC\n",
    "from sklearn import cross_validation"
   ]
  },
  {
   "cell_type": "code",
   "execution_count": 45,
   "metadata": {
    "collapsed": false
   },
   "outputs": [],
   "source": [
    "mnb = MultinomialNB(alpha=0.1,fit_prior=True,class_prior=None)\n",
    "#gnb = GaussianNB() very bad performance\n",
    "bnb = BernoulliNB(alpha=0.1, binarize=0.0, fit_prior=True, class_prior=None)\n",
    "mnb_score = cross_validation.cross_val_score(mnb,sift_train,train_label,cv=3)\n",
    "#gnb_score = cross_validation.cross_val_score(gnb,sift_train,train_label,cv=3)\n",
    "bnb_score = cross_validation.cross_val_score(bnb,sift_train,train_label,cv=3)"
   ]
  },
  {
   "cell_type": "code",
   "execution_count": 46,
   "metadata": {
    "collapsed": false
   },
   "outputs": [
    {
     "name": "stdout",
     "output_type": "stream",
     "text": [
      "[ 0.144  0.127  0.138] [ 0.146  0.135  0.133]\n"
     ]
    }
   ],
   "source": [
    "print mnb_score,bnb_score"
   ]
  },
  {
   "cell_type": "code",
   "execution_count": 58,
   "metadata": {
    "collapsed": false
   },
   "outputs": [],
   "source": [
    "logistic = LogisticRegression(penalty='l2', dual=False, tol=0.01, C=1.0, fit_intercept=True, intercept_scaling=1, class_weight=None, random_state=None, solver='liblinear', max_iter=100, multi_class='ovr', verbose=0)\n",
    "logistic_score = cross_validation.cross_val_score(logistic,sift_train,train_label,cv=3)"
   ]
  },
  {
   "cell_type": "code",
   "execution_count": 59,
   "metadata": {
    "collapsed": false
   },
   "outputs": [
    {
     "name": "stdout",
     "output_type": "stream",
     "text": [
      "[ 0.145  0.156  0.139]\n"
     ]
    }
   ],
   "source": [
    "print logistic_score"
   ]
  },
  {
   "cell_type": "code",
   "execution_count": 56,
   "metadata": {
    "collapsed": false
   },
   "outputs": [],
   "source": [
    "knn = KNeighborsClassifier(n_neighbors=5, weights='distance', algorithm='kd_tree', leaf_size=30, p=2, metric='minkowski')\n",
    "knn_score = cross_validation.cross_val_score(knn,sift_train,train_label,cv=3)"
   ]
  },
  {
   "cell_type": "code",
   "execution_count": 57,
   "metadata": {
    "collapsed": false
   },
   "outputs": [
    {
     "name": "stdout",
     "output_type": "stream",
     "text": [
      "[ 0.079  0.092  0.083]\n"
     ]
    }
   ],
   "source": [
    "print knn_score"
   ]
  },
  {
   "cell_type": "code",
   "execution_count": 62,
   "metadata": {
    "collapsed": false
   },
   "outputs": [
    {
     "name": "stdout",
     "output_type": "stream",
     "text": [
      "[mean: 0.12167, std: 0.00776, params: {'kernel': 'linear', 'C': 0.01}, mean: 0.15333, std: 0.00189, params: {'kernel': 'linear', 'C': 1}, mean: 0.15333, std: 0.00189, params: {'kernel': 'linear', 'C': 10}, mean: 0.15333, std: 0.00189, params: {'kernel': 'linear', 'C': 100}, mean: 0.15333, std: 0.00189, params: {'kernel': 'linear', 'C': 1000}, mean: 0.15333, std: 0.00189, params: {'kernel': 'linear', 'C': 10000}, mean: 0.12333, std: 0.00776, params: {'kernel': 'rbf', 'C': 0.01, 'gamma': 0.001}, mean: 0.12167, std: 0.00776, params: {'kernel': 'rbf', 'C': 0.01, 'gamma': 0.0001}, mean: 0.12167, std: 0.00776, params: {'kernel': 'rbf', 'C': 0.01, 'gamma': 1e-05}, mean: 0.12333, std: 0.00776, params: {'kernel': 'rbf', 'C': 1, 'gamma': 0.001}, mean: 0.12167, std: 0.00776, params: {'kernel': 'rbf', 'C': 1, 'gamma': 0.0001}, mean: 0.12167, std: 0.00776, params: {'kernel': 'rbf', 'C': 1, 'gamma': 1e-05}, mean: 0.13200, std: 0.00638, params: {'kernel': 'rbf', 'C': 10, 'gamma': 0.001}, mean: 0.12167, std: 0.00776, params: {'kernel': 'rbf', 'C': 10, 'gamma': 0.0001}, mean: 0.12167, std: 0.00776, params: {'kernel': 'rbf', 'C': 10, 'gamma': 1e-05}, mean: 0.15400, std: 0.00216, params: {'kernel': 'rbf', 'C': 100, 'gamma': 0.001}, mean: 0.13233, std: 0.00685, params: {'kernel': 'rbf', 'C': 100, 'gamma': 0.0001}, mean: 0.12167, std: 0.00776, params: {'kernel': 'rbf', 'C': 100, 'gamma': 1e-05}, mean: 0.15400, std: 0.00216, params: {'kernel': 'rbf', 'C': 1000, 'gamma': 0.001}, mean: 0.15367, std: 0.00170, params: {'kernel': 'rbf', 'C': 1000, 'gamma': 0.0001}, mean: 0.13167, std: 0.00519, params: {'kernel': 'rbf', 'C': 1000, 'gamma': 1e-05}, mean: 0.15400, std: 0.00216, params: {'kernel': 'rbf', 'C': 10000, 'gamma': 0.001}, mean: 0.15367, std: 0.00170, params: {'kernel': 'rbf', 'C': 10000, 'gamma': 0.0001}, mean: 0.15333, std: 0.00189, params: {'kernel': 'rbf', 'C': 10000, 'gamma': 1e-05}]\n"
     ]
    }
   ],
   "source": [
    "svn = SVC()\n",
    "param_grid = [\n",
    "  {'C': [0.01, 1, 10, 100, 1000, 10000], 'kernel': ['linear']},\n",
    "  {'C': [0.01, 1, 10, 100, 1000, 10000], 'gamma': [0.001, 0.0001, 0.00001], 'kernel': ['rbf']},\n",
    " ]\n",
    "clf = grid_search.GridSearchCV(svn, param_grid)\n",
    "clf.fit(sift_train,train_label)\n",
    "print clf.grid_scores_"
   ]
  },
  {
   "cell_type": "code",
   "execution_count": 74,
   "metadata": {
    "collapsed": false
   },
   "outputs": [
    {
     "name": "stdout",
     "output_type": "stream",
     "text": [
      "{'kernel': 'rbf', 'C': 100, 'gamma': 0.001}\n"
     ]
    }
   ],
   "source": [
    "print clf.best_params_"
   ]
  },
  {
   "cell_type": "code",
   "execution_count": 73,
   "metadata": {
    "collapsed": false
   },
   "outputs": [
    {
     "name": "stdout",
     "output_type": "stream",
     "text": [
      "[ 0.13750186  0.1690537   0.13164156 ...,  0.04393534  0.12083447\n",
      "  0.12772153]\n"
     ]
    }
   ],
   "source": []
  },
  {
   "cell_type": "code",
   "execution_count": null,
   "metadata": {
    "collapsed": true
   },
   "outputs": [],
   "source": []
  }
 ],
 "metadata": {
  "kernelspec": {
   "display_name": "Python 2",
   "language": "python",
   "name": "python2"
  },
  "language_info": {
   "codemirror_mode": {
    "name": "ipython",
    "version": 2
   },
   "file_extension": ".py",
   "mimetype": "text/x-python",
   "name": "python",
   "nbconvert_exporter": "python",
   "pygments_lexer": "ipython2",
   "version": "2.7.10"
  }
 },
 "nbformat": 4,
 "nbformat_minor": 0
}
