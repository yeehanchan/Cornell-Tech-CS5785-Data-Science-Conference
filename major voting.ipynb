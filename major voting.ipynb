{
 "cells": [
  {
   "cell_type": "code",
   "execution_count": 14,
   "metadata": {
    "collapsed": false
   },
   "outputs": [
    {
     "name": "stdout",
     "output_type": "stream",
     "text": [
      "Populating the interactive namespace from numpy and matplotlib\n"
     ]
    }
   ],
   "source": [
    "%pylab inline\n",
    "import rlcompleter, readline\n",
    "readline.parse_and_bind('tab: complete')\n",
    "from sklearn import grid_search"
   ]
  },
  {
   "cell_type": "code",
   "execution_count": 2,
   "metadata": {
    "collapsed": true
   },
   "outputs": [],
   "source": [
    "from IPython.parallel import Client\n",
    "rc = Client()"
   ]
  },
  {
   "cell_type": "code",
   "execution_count": 15,
   "metadata": {
    "collapsed": false
   },
   "outputs": [],
   "source": [
    "alexnet_train = np.load(\"CS5785-final-data/alexnet_feat_train.npy\")\n",
    "sift_train = np.load(\"CS5785-final-data/SIFTBoW_train.npy\")\n",
    "attribute = np.genfromtxt(\"CS5785-final-data/attributes_train.txt\",dtype='str')[:,1]\n",
    "train = np.genfromtxt(\"CS5785-final-data/train.txt\",dtype='str')\n",
    "alexnet_test = np.load(\"CS5785-final-data/alexnet_feat_test.npy\")\n",
    "test_id = np.genfromtxt(\"CS5785-final-data/test.txt\",dtype='str')\n",
    "train_label = list(train[:,1])"
   ]
  },
  {
   "cell_type": "code",
   "execution_count": null,
   "metadata": {
    "collapsed": false
   },
   "outputs": [],
   "source": []
  },
  {
   "cell_type": "code",
   "execution_count": 4,
   "metadata": {
    "collapsed": true
   },
   "outputs": [],
   "source": [
    "from sklearn.preprocessing import scale\n",
    "scale_alexnet = scale(alexnet_train, axis=0, with_mean=True, with_std=True, copy=True)\n",
    "scale_alexnet_test = scale(alexnet_test, axis=0, with_mean=True, with_std=True, copy=True)"
   ]
  },
  {
   "cell_type": "code",
   "execution_count": 11,
   "metadata": {
    "collapsed": false
   },
   "outputs": [
    {
     "name": "stdout",
     "output_type": "stream",
     "text": [
      "[[-0.7798487  -1.68445003 -1.19879558 ..., -0.63580746 -0.40296847\n",
      "   0.5512287 ]\n",
      " [-0.71109723  0.05550532  0.68368766 ...,  0.63552846 -0.56516745\n",
      "   0.82728138]\n",
      " [ 0.02707332 -0.1759728   1.71622296 ..., -0.31332588  1.28494866\n",
      "   0.09507528]\n",
      " ..., \n",
      " [-0.87849943  0.98975693  0.32895484 ...,  2.00567114  0.15881243\n",
      "   1.11710018]\n",
      " [-1.01087352  0.63344114  1.42269969 ..., -0.33161848  1.48116542\n",
      "  -0.32136853]\n",
      " [ 0.0399384  -1.02224589 -0.77870236 ..., -0.61645178  1.30974869\n",
      "   0.67064072]]\n"
     ]
    }
   ],
   "source": []
  },
  {
   "cell_type": "code",
   "execution_count": 5,
   "metadata": {
    "collapsed": false
   },
   "outputs": [],
   "source": [
    "from sklearn.linear_model import LogisticRegression\n",
    "from sklearn.svm import SVC\n",
    "from sklearn import cross_validation"
   ]
  },
  {
   "cell_type": "code",
   "execution_count": null,
   "metadata": {
    "collapsed": true
   },
   "outputs": [],
   "source": []
  },
  {
   "cell_type": "code",
   "execution_count": 6,
   "metadata": {
    "collapsed": false
   },
   "outputs": [
    {
     "name": "stdout",
     "output_type": "stream",
     "text": [
      "[mean: 0.37800, std: 0.00589, params: {'kernel': 'linear', 'C': 0.01}, mean: 0.37800, std: 0.00589, params: {'kernel': 'linear', 'C': 1}, mean: 0.37800, std: 0.00589, params: {'kernel': 'linear', 'C': 10}, mean: 0.37800, std: 0.00589, params: {'kernel': 'linear', 'C': 100}, mean: 0.37800, std: 0.00589, params: {'kernel': 'linear', 'C': 1000}, mean: 0.37800, std: 0.00589, params: {'kernel': 'linear', 'C': 10000}, mean: 0.24233, std: 0.00946, params: {'kernel': 'rbf', 'C': 0.01, 'gamma': 0.001}, mean: 0.34733, std: 0.00680, params: {'kernel': 'rbf', 'C': 0.01, 'gamma': 0.0001}, mean: 0.31700, std: 0.00589, params: {'kernel': 'rbf', 'C': 0.01, 'gamma': 1e-05}, mean: 0.30267, std: 0.00736, params: {'kernel': 'rbf', 'C': 1, 'gamma': 0.001}, mean: 0.36867, std: 0.00655, params: {'kernel': 'rbf', 'C': 1, 'gamma': 0.0001}, mean: 0.31700, std: 0.00589, params: {'kernel': 'rbf', 'C': 1, 'gamma': 1e-05}, mean: 0.30467, std: 0.00544, params: {'kernel': 'rbf', 'C': 10, 'gamma': 0.001}, mean: 0.39333, std: 0.00834, params: {'kernel': 'rbf', 'C': 10, 'gamma': 0.0001}, mean: 0.37600, std: 0.00566, params: {'kernel': 'rbf', 'C': 10, 'gamma': 1e-05}, mean: 0.30467, std: 0.00544, params: {'kernel': 'rbf', 'C': 100, 'gamma': 0.001}, mean: 0.39300, std: 0.00787, params: {'kernel': 'rbf', 'C': 100, 'gamma': 0.0001}, mean: 0.38100, std: 0.00779, params: {'kernel': 'rbf', 'C': 100, 'gamma': 1e-05}, mean: 0.30467, std: 0.00544, params: {'kernel': 'rbf', 'C': 1000, 'gamma': 0.001}, mean: 0.39300, std: 0.00787, params: {'kernel': 'rbf', 'C': 1000, 'gamma': 0.0001}, mean: 0.37933, std: 0.00772, params: {'kernel': 'rbf', 'C': 1000, 'gamma': 1e-05}, mean: 0.30467, std: 0.00544, params: {'kernel': 'rbf', 'C': 10000, 'gamma': 0.001}, mean: 0.39300, std: 0.00787, params: {'kernel': 'rbf', 'C': 10000, 'gamma': 0.0001}, mean: 0.37933, std: 0.00772, params: {'kernel': 'rbf', 'C': 10000, 'gamma': 1e-05}]\n"
     ]
    }
   ],
   "source": [
    "svn = SVC()\n",
    "param_grid = [\n",
    "  {'C': [0.01, 1, 10, 100, 1000, 10000], 'kernel': ['linear']},\n",
    "  {'C': [0.01, 1, 10, 100, 1000, 10000], 'gamma': [0.001, 0.0001, 0.00001], 'kernel': ['rbf']},\n",
    " ]\n",
    "clf = grid_search.GridSearchCV(svn, param_grid)\n",
    "clf.fit(scale_alexnet,train_label)\n",
    "print clf.grid_scores_"
   ]
  },
  {
   "cell_type": "code",
   "execution_count": 7,
   "metadata": {
    "collapsed": false
   },
   "outputs": [
    {
     "name": "stdout",
     "output_type": "stream",
     "text": [
      "{'kernel': 'rbf', 'C': 10, 'gamma': 0.0001} 0.393333333333\n"
     ]
    }
   ],
   "source": [
    "print clf.best_params_,clf.best_score_"
   ]
  },
  {
   "cell_type": "code",
   "execution_count": 12,
   "metadata": {
    "collapsed": true
   },
   "outputs": [],
   "source": [
    "predicts = clf.predict(scale_alexnet_test)"
   ]
  },
  {
   "cell_type": "code",
   "execution_count": 19,
   "metadata": {
    "collapsed": false
   },
   "outputs": [],
   "source": [
    "import csv\n",
    "with open(\"svn_result\",'w') as f:\n",
    "    writer = csv.writer(f)\n",
    "    writer.writerow([\"ID\",\"Category\"])\n",
    "    for i in range(len(predicts)):\n",
    "        writer.writerow([test_id[i],predicts[i]])"
   ]
  },
  {
   "cell_type": "code",
   "execution_count": 24,
   "metadata": {
    "collapsed": false
   },
   "outputs": [],
   "source": [
    "from sklearn.naive_bayes import MultinomialNB\n",
    "from sklearn.preprocessing import normalize\n",
    "from sklearn.preprocessing import MinMaxScaler\n",
    "scale_alexnet = MinMaxScaler(feature_range=(0, 1), copy=True).fit_transform(scale_alexnet)\n",
    "normal_alexnet = normalize(scale_alexnet, norm='l2', axis=1, copy=True)\n",
    "#print normal_alexnet\n",
    "mnb = MultinomialNB(alpha=1.0, fit_prior=True, class_prior=None)\n",
    "score = cross_validation.cross_val_score(mnb,normal_alexnet,train_label,cv=5)"
   ]
  },
  {
   "cell_type": "code",
   "execution_count": 7,
   "metadata": {
    "collapsed": false
   },
   "outputs": [],
   "source": [
    "from sklearn.naive_bayes import GaussianNB\n",
    "from sklearn.preprocessing import normalize\n",
    "from sklearn.preprocessing import scale\n",
    "gnb = GaussianNB()\n",
    "#print alexnet_train\n",
    "#clf.fit(alexnet_train,train_label)\n",
    "score = cross_validation.cross_val_score(gnb,scale_alexnet,train_label,cv=5)"
   ]
  },
  {
   "cell_type": "code",
   "execution_count": 8,
   "metadata": {
    "collapsed": false
   },
   "outputs": [
    {
     "name": "stdout",
     "output_type": "stream",
     "text": [
      "[ 0.37333333  0.38166667  0.37666667  0.37833333  0.36666667]\n"
     ]
    }
   ],
   "source": [
    "print score"
   ]
  },
  {
   "cell_type": "code",
   "execution_count": 9,
   "metadata": {
    "collapsed": true
   },
   "outputs": [],
   "source": [
    "svn = SVC(kernel='rbf',C=10,gamma=0.0001)"
   ]
  },
  {
   "cell_type": "code",
   "execution_count": 10,
   "metadata": {
    "collapsed": true
   },
   "outputs": [],
   "source": [
    "from sklearn.linear_model import LogisticRegression\n",
    "logistic = LogisticRegression()"
   ]
  },
  {
   "cell_type": "code",
   "execution_count": 21,
   "metadata": {
    "collapsed": true
   },
   "outputs": [],
   "source": [
    "from sklearn.ensemble import ExtraTreesClassifier\n",
    "etc = ExtraTreesClassifier(n_estimators=100, criterion='gini', max_depth=None, min_samples_split=2, min_samples_leaf=1, min_weight_fraction_leaf=0.0, max_features='auto', max_leaf_nodes=None, bootstrap=False, oob_score=False, random_state=None, verbose=0,class_weight=None)"
   ]
  },
  {
   "cell_type": "code",
   "execution_count": 24,
   "metadata": {
    "collapsed": false
   },
   "outputs": [],
   "source": [
    "from sklearn.naive_bayes import BernoulliNB\n",
    "from sklearn.svm import SVC\n",
    "from sklearn.linear_model import LogisticRegression\n",
    "from sklearn import cross_validation \n",
    "bnb = BernoulliNB(alpha=0.14, binarize=0.8, fit_prior=True, class_prior=None)\n",
    "svn = SVC(kernel='linear',C=1.0,gamma=0.001,decision_function_shape='ovr')\n",
    "logreg = LogisticRegression(penalty='l2', dual=False, tol=0.0001, C=0.005, fit_intercept=True, intercept_scaling=1, class_weight=None, random_state=None, solver='lbfgs', max_iter=100, multi_class='ovr', verbose=0)"
   ]
  },
  {
   "cell_type": "code",
   "execution_count": 25,
   "metadata": {
    "collapsed": false
   },
   "outputs": [],
   "source": [
    "from sklearn.preprocessing import scale\n",
    "scale_alexnet = scale(alexnet_train, axis=0, with_mean=True, with_std=True, copy=True)\n",
    "scale_alexnet_test = scale(alexnet_test, axis=0, with_mean=True, with_std=True, copy=True)"
   ]
  },
  {
   "cell_type": "code",
   "execution_count": 26,
   "metadata": {
    "collapsed": false
   },
   "outputs": [
    {
     "name": "stdout",
     "output_type": "stream",
     "text": [
      "[ 0.396  0.419  0.419]\n"
     ]
    }
   ],
   "source": [
    "from sklearn.ensemble import VotingClassifier\n",
    "voteclf = VotingClassifier(estimators=[('lr', logreg), ('bnb',bnb), ('svn', svn)],voting='hard')\n",
    "score = cross_validation.cross_val_score(voteclf,scale_alexnet,train_label,cv=3)\n",
    "print score"
   ]
  },
  {
   "cell_type": "code",
   "execution_count": 27,
   "metadata": {
    "collapsed": false
   },
   "outputs": [],
   "source": [
    "voteclf.fit(scale_alexnet,train_label)\n",
    "vote_predicts = voteclf.predict(scale_alexnet_test)"
   ]
  },
  {
   "cell_type": "code",
   "execution_count": 28,
   "metadata": {
    "collapsed": true
   },
   "outputs": [],
   "source": [
    "import csv\n",
    "with open(\"majorvote_result\",'w') as f:\n",
    "    writer = csv.writer(f)\n",
    "    writer.writerow([\"ID\",\"Category\"])\n",
    "    for i in range(len(vote_predicts)):\n",
    "        writer.writerow([test_id[i],vote_predicts[i]])"
   ]
  },
  {
   "cell_type": "code",
   "execution_count": 24,
   "metadata": {
    "collapsed": false
   },
   "outputs": [
    {
     "name": "stdout",
     "output_type": "stream",
     "text": [
      "[ 0.394  0.403  0.4  ]\n"
     ]
    }
   ],
   "source": [
    "print score"
   ]
  },
  {
   "cell_type": "code",
   "execution_count": 27,
   "metadata": {
    "collapsed": false
   },
   "outputs": [],
   "source": [
    "from sklearn.ensemble import voting_classifier"
   ]
  },
  {
   "cell_type": "code",
   "execution_count": null,
   "metadata": {
    "collapsed": true
   },
   "outputs": [],
   "source": []
  }
 ],
 "metadata": {
  "kernelspec": {
   "display_name": "Python 2",
   "language": "python",
   "name": "python2"
  },
  "language_info": {
   "codemirror_mode": {
    "name": "ipython",
    "version": 2
   },
   "file_extension": ".py",
   "mimetype": "text/x-python",
   "name": "python",
   "nbconvert_exporter": "python",
   "pygments_lexer": "ipython2",
   "version": "2.7.10"
  }
 },
 "nbformat": 4,
 "nbformat_minor": 0
}
