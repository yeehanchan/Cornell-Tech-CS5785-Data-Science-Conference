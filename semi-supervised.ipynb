{
 "cells": [
  {
   "cell_type": "code",
   "execution_count": 1,
   "metadata": {
    "collapsed": false
   },
   "outputs": [
    {
     "name": "stdout",
     "output_type": "stream",
     "text": [
      "Populating the interactive namespace from numpy and matplotlib\n"
     ]
    }
   ],
   "source": [
    "%pylab inline\n",
    "import rlcompleter, readline\n",
    "readline.parse_and_bind('tab: complete')\n",
    "from sklearn import grid_search\n",
    "from sets import Set"
   ]
  },
  {
   "cell_type": "code",
   "execution_count": 60,
   "metadata": {
    "collapsed": true
   },
   "outputs": [],
   "source": [
    "labelled = np.load(\"CS5785-final-data/alexnet_feat_train.npy\")\n",
    "unlabelled = np.load(\"CS5785-final-data/alexnet_feat_10k.npy\")\n",
    "train_txt = np.genfromtxt(\"CS5785-final-data/train.txt\",dtype='str')\n",
    "label = list(train_txt[:,1])"
   ]
  },
  {
   "cell_type": "code",
   "execution_count": 61,
   "metadata": {
    "collapsed": false
   },
   "outputs": [],
   "source": [
    "train = np.concatenate([labelled,unlabelled],axis=0)"
   ]
  },
  {
   "cell_type": "code",
   "execution_count": 76,
   "metadata": {
    "collapsed": false
   },
   "outputs": [],
   "source": [
    "labelname = list(Set(label))\n",
    "dic = {}\n",
    "for i in range(200):\n",
    "    dic[labelname[i]] = i\n",
    "train_label = []\n",
    "for each in label:\n",
    "    train_label.append(dic[each])\n",
    "train_label = train_label + [-1]*10000"
   ]
  },
  {
   "cell_type": "code",
   "execution_count": 85,
   "metadata": {
    "collapsed": false
   },
   "outputs": [],
   "source": [
    "from sklearn.semi_supervised import LabelPropagation\n",
    "from sklearn import cross_validation\n",
    "from sklearn.grid_search import GridSearchCV\n",
    "para = [\n",
    "    {\"gamma\":[0.000001,0.00001,0.0001,0.001],\"neighbors\":[1,3,5,7,9],\"alpha\":[0.001,0.01,0.1,1,10,100],\"kernel\":['rbf','linear','poly']}\n",
    "]\n",
    "lp = LabelPropagation(kernel='rbf', gamma=0.0001, n_neighbors=3, alpha=0.001, max_iter=30, tol=0.001)\n",
    "score = cross_validation.cross_val_score(lp,train,train_label,cv=5)"
   ]
  },
  {
   "cell_type": "code",
   "execution_count": 83,
   "metadata": {
    "collapsed": false
   },
   "outputs": [
    {
     "name": "stdout",
     "output_type": "stream",
     "text": [
      "[ 0.05346154  0.06        0.05807692  0.05230769  0.05615385]\n"
     ]
    }
   ],
   "source": [
    "print score"
   ]
  },
  {
   "cell_type": "code",
   "execution_count": null,
   "metadata": {
    "collapsed": true
   },
   "outputs": [],
   "source": []
  }
 ],
 "metadata": {
  "kernelspec": {
   "display_name": "Python 2",
   "language": "python",
   "name": "python2"
  },
  "language_info": {
   "codemirror_mode": {
    "name": "ipython",
    "version": 2
   },
   "file_extension": ".py",
   "mimetype": "text/x-python",
   "name": "python",
   "nbconvert_exporter": "python",
   "pygments_lexer": "ipython2",
   "version": "2.7.10"
  }
 },
 "nbformat": 4,
 "nbformat_minor": 0
}
