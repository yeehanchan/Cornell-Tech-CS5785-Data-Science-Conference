{
 "cells": [
  {
   "cell_type": "code",
   "execution_count": 23,
   "metadata": {
    "collapsed": false
   },
   "outputs": [
    {
     "name": "stdout",
     "output_type": "stream",
     "text": [
      "Populating the interactive namespace from numpy and matplotlib\n"
     ]
    },
    {
     "name": "stderr",
     "output_type": "stream",
     "text": [
      "WARNING: pylab import has clobbered these variables: ['f']\n",
      "`%matplotlib` prevents importing * from pylab and numpy\n"
     ]
    }
   ],
   "source": [
    "%pylab inline\n",
    "import rlcompleter, readline\n",
    "readline.parse_and_bind('tab: complete')\n",
    "from sklearn import grid_search\n",
    "alexnet_train = np.load(\"CS5785-final-data/alexnet_feat_train.npy\")\n",
    "sift_train = np.load(\"CS5785-final-data/SIFTBoW_train.npy\")\n",
    "attribute = np.genfromtxt(\"CS5785-final-data/attributes_train.txt\",dtype='str')[:,1]\n",
    "train = np.genfromtxt(\"CS5785-final-data/train.txt\",dtype='str')\n",
    "alexnet_test = np.load(\"CS5785-final-data/alexnet_feat_test.npy\")\n",
    "test_id = np.genfromtxt(\"CS5785-final-data/test.txt\",dtype='str')\n",
    "train_label = list(train[:,1])"
   ]
  },
  {
   "cell_type": "code",
   "execution_count": 46,
   "metadata": {
    "collapsed": false
   },
   "outputs": [],
   "source": [
    "import csv\n",
    "with open(\"CS5785-final-data/trainLabel.csv\", 'rb') as f:\n",
    "    train_label = []\n",
    "    for line in f:\n",
    "        line = line.strip().split(\",\")\n",
    "        train_label.append(line)\n",
    "#        print [int(a) for a in attr]\n"
   ]
  },
  {
   "cell_type": "code",
   "execution_count": 49,
   "metadata": {
    "collapsed": false
   },
   "outputs": [
    {
     "name": "stdout",
     "output_type": "stream",
     "text": [
      "13000\n"
     ]
    }
   ],
   "source": [
    "print len(train_label)"
   ]
  },
  {
   "cell_type": "code",
   "execution_count": 22,
   "metadata": {
    "collapsed": false
   },
   "outputs": [
    {
     "name": "stdout",
     "output_type": "stream",
     "text": [
      "82211\n"
     ]
    }
   ],
   "source": [
    "print len(train[6])"
   ]
  },
  {
   "cell_type": "code",
   "execution_count": 27,
   "metadata": {
    "collapsed": false
   },
   "outputs": [],
   "source": [
    "alexTrain = np.load(\"CS5785-final-data/alexnet_feat_train.npy\")\n",
    "alexunsup = np.load('CS5785-final-data/alexnet_feat_10k.npy') \n",
    "alexMerged = np.vstack((alexTrain, alexunsup))\n"
   ]
  },
  {
   "cell_type": "code",
   "execution_count": 29,
   "metadata": {
    "collapsed": false
   },
   "outputs": [
    {
     "name": "stdout",
     "output_type": "stream",
     "text": [
      "(13000, 4096)\n"
     ]
    }
   ],
   "source": [
    "print alexMerged.shape"
   ]
  },
  {
   "cell_type": "code",
   "execution_count": 39,
   "metadata": {
    "collapsed": true
   },
   "outputs": [],
   "source": [
    "from sklearn.preprocessing import scale\n",
    "from sklearn import cross_validation\n",
    "from sklearn.naive_bayes import BernoulliNB\n",
    "#from sklearn.preprocessing import normalize\n",
    "#normal_alexnet = normalize(alexnet_train,norm='l2',axis=1,copy=True)\n",
    "scale_alexnet = scale(alexMerged, axis=0, with_mean=True, with_std=True, copy=True)\n",
    "scale_alexnet_test = scale(alexnet_test, axis=0, with_mean=True, with_std=True, copy=True)"
   ]
  },
  {
   "cell_type": "code",
   "execution_count": 56,
   "metadata": {
    "collapsed": false
   },
   "outputs": [
    {
     "name": "stdout",
     "output_type": "stream",
     "text": [
      "(13000,)\n"
     ]
    }
   ],
   "source": [
    "train_label = np.array(train_label).reshape((len(train_label),))\n",
    "print train_label.shape"
   ]
  },
  {
   "cell_type": "code",
   "execution_count": 57,
   "metadata": {
    "collapsed": false
   },
   "outputs": [
    {
     "name": "stdout",
     "output_type": "stream",
     "text": [
      "0.01 0.1 0.591300048593\n",
      "0.01 0.3 0.583941850175\n",
      "0.01 0.5 0.570233331941\n",
      "0.01 0.7 0.555133320934\n",
      "0.01 0.9 0.542490070082\n",
      "0.1 0.1 0.594765255264\n",
      "0.1 0.3 0.588508448717\n",
      "0.1 0.5 0.575122007836\n",
      "0.1 0.7 0.559399202957\n",
      "0.1 0.9 0.548462502286\n",
      "1 0.1 0.588166413333\n",
      "1 0.3 0.579383500803\n",
      "1 0.5 0.562197775387\n",
      "1 0.7 0.545087578443\n",
      "1 0.9 0.524015567971\n",
      "10 0.1 0.522111699988\n",
      "10 0.3 0.490322377808\n",
      "10 0.5 0.471361562279\n",
      "10 0.7 0.452073200097\n",
      "10 0.9 0.422865182311\n",
      "100 0.1 0.481406934797\n",
      "100 0.3 0.432362836945\n",
      "100 0.5 0.401041762823\n",
      "100 0.7 0.393929118844\n",
      "100 0.9 0.392499528074\n"
     ]
    }
   ],
   "source": [
    "for a in [0.01,0.1,1,10,100]:\n",
    "    for b in [0.1,0.3,0.5,0.7,0.9]:\n",
    "        bnb = BernoulliNB(alpha=a, binarize=b, fit_prior=True, class_prior=None)\n",
    "#        bnb.fit(scale_alexnet,train_label)\n",
    "        score = cross_validation.cross_val_score(bnb,scale_alexnet,train_label,cv=5)\n",
    "        print a,b,score.mean()"
   ]
  },
  {
   "cell_type": "code",
   "execution_count": 62,
   "metadata": {
    "collapsed": false
   },
   "outputs": [
    {
     "name": "stdout",
     "output_type": "stream",
     "text": [
      "0.01 0.1 0.576153400441\n",
      "0.01 0.3 0.576153400441\n",
      "0.01 0.5 0.576153400441\n"
     ]
    },
    {
     "ename": "KeyboardInterrupt",
     "evalue": "",
     "output_type": "error",
     "traceback": [
      "\u001b[0;31m---------------------------------------------------------------------------\u001b[0m",
      "\u001b[0;31mKeyboardInterrupt\u001b[0m                         Traceback (most recent call last)",
      "\u001b[0;32m<ipython-input-62-e4aad6798a9a>\u001b[0m in \u001b[0;36m<module>\u001b[0;34m()\u001b[0m\n\u001b[1;32m      4\u001b[0m         \u001b[0mgnb\u001b[0m \u001b[0;34m=\u001b[0m \u001b[0mGaussianNB\u001b[0m\u001b[0;34m(\u001b[0m\u001b[0;34m)\u001b[0m\u001b[0;34m\u001b[0m\u001b[0m\n\u001b[1;32m      5\u001b[0m \u001b[0;31m#        bnb.fit(scale_alexnet,train_label)\u001b[0m\u001b[0;34m\u001b[0m\u001b[0;34m\u001b[0m\u001b[0m\n\u001b[0;32m----> 6\u001b[0;31m         \u001b[0mscore\u001b[0m \u001b[0;34m=\u001b[0m \u001b[0mcross_validation\u001b[0m\u001b[0;34m.\u001b[0m\u001b[0mcross_val_score\u001b[0m\u001b[0;34m(\u001b[0m\u001b[0mgnb\u001b[0m\u001b[0;34m,\u001b[0m\u001b[0mscale_alexnet\u001b[0m\u001b[0;34m,\u001b[0m\u001b[0mtrain_label\u001b[0m\u001b[0;34m,\u001b[0m\u001b[0mcv\u001b[0m\u001b[0;34m=\u001b[0m\u001b[0;36m5\u001b[0m\u001b[0;34m)\u001b[0m\u001b[0;34m\u001b[0m\u001b[0m\n\u001b[0m\u001b[1;32m      7\u001b[0m         \u001b[0;32mprint\u001b[0m \u001b[0ma\u001b[0m\u001b[0;34m,\u001b[0m\u001b[0mb\u001b[0m\u001b[0;34m,\u001b[0m\u001b[0mscore\u001b[0m\u001b[0;34m.\u001b[0m\u001b[0mmean\u001b[0m\u001b[0;34m(\u001b[0m\u001b[0;34m)\u001b[0m\u001b[0;34m\u001b[0m\u001b[0m\n",
      "\u001b[0;32m/Users/yeehanchan/anaconda/lib/python2.7/site-packages/sklearn/cross_validation.pyc\u001b[0m in \u001b[0;36mcross_val_score\u001b[0;34m(estimator, X, y, scoring, cv, n_jobs, verbose, fit_params, pre_dispatch)\u001b[0m\n\u001b[1;32m   1431\u001b[0m                                               \u001b[0mtrain\u001b[0m\u001b[0;34m,\u001b[0m \u001b[0mtest\u001b[0m\u001b[0;34m,\u001b[0m \u001b[0mverbose\u001b[0m\u001b[0;34m,\u001b[0m \u001b[0mNone\u001b[0m\u001b[0;34m,\u001b[0m\u001b[0;34m\u001b[0m\u001b[0m\n\u001b[1;32m   1432\u001b[0m                                               fit_params)\n\u001b[0;32m-> 1433\u001b[0;31m                       for train, test in cv)\n\u001b[0m\u001b[1;32m   1434\u001b[0m     \u001b[0;32mreturn\u001b[0m \u001b[0mnp\u001b[0m\u001b[0;34m.\u001b[0m\u001b[0marray\u001b[0m\u001b[0;34m(\u001b[0m\u001b[0mscores\u001b[0m\u001b[0;34m)\u001b[0m\u001b[0;34m[\u001b[0m\u001b[0;34m:\u001b[0m\u001b[0;34m,\u001b[0m \u001b[0;36m0\u001b[0m\u001b[0;34m]\u001b[0m\u001b[0;34m\u001b[0m\u001b[0m\n\u001b[1;32m   1435\u001b[0m \u001b[0;34m\u001b[0m\u001b[0m\n",
      "\u001b[0;32m/Users/yeehanchan/anaconda/lib/python2.7/site-packages/sklearn/externals/joblib/parallel.pyc\u001b[0m in \u001b[0;36m__call__\u001b[0;34m(self, iterable)\u001b[0m\n\u001b[1;32m    802\u001b[0m             \u001b[0mself\u001b[0m\u001b[0;34m.\u001b[0m\u001b[0m_iterating\u001b[0m \u001b[0;34m=\u001b[0m \u001b[0mTrue\u001b[0m\u001b[0;34m\u001b[0m\u001b[0m\n\u001b[1;32m    803\u001b[0m \u001b[0;34m\u001b[0m\u001b[0m\n\u001b[0;32m--> 804\u001b[0;31m             \u001b[0;32mwhile\u001b[0m \u001b[0mself\u001b[0m\u001b[0;34m.\u001b[0m\u001b[0mdispatch_one_batch\u001b[0m\u001b[0;34m(\u001b[0m\u001b[0miterator\u001b[0m\u001b[0;34m)\u001b[0m\u001b[0;34m:\u001b[0m\u001b[0;34m\u001b[0m\u001b[0m\n\u001b[0m\u001b[1;32m    805\u001b[0m                 \u001b[0;32mpass\u001b[0m\u001b[0;34m\u001b[0m\u001b[0m\n\u001b[1;32m    806\u001b[0m \u001b[0;34m\u001b[0m\u001b[0m\n",
      "\u001b[0;32m/Users/yeehanchan/anaconda/lib/python2.7/site-packages/sklearn/externals/joblib/parallel.pyc\u001b[0m in \u001b[0;36mdispatch_one_batch\u001b[0;34m(self, iterator)\u001b[0m\n\u001b[1;32m    660\u001b[0m                 \u001b[0;32mreturn\u001b[0m \u001b[0mFalse\u001b[0m\u001b[0;34m\u001b[0m\u001b[0m\n\u001b[1;32m    661\u001b[0m             \u001b[0;32melse\u001b[0m\u001b[0;34m:\u001b[0m\u001b[0;34m\u001b[0m\u001b[0m\n\u001b[0;32m--> 662\u001b[0;31m                 \u001b[0mself\u001b[0m\u001b[0;34m.\u001b[0m\u001b[0m_dispatch\u001b[0m\u001b[0;34m(\u001b[0m\u001b[0mtasks\u001b[0m\u001b[0;34m)\u001b[0m\u001b[0;34m\u001b[0m\u001b[0m\n\u001b[0m\u001b[1;32m    663\u001b[0m                 \u001b[0;32mreturn\u001b[0m \u001b[0mTrue\u001b[0m\u001b[0;34m\u001b[0m\u001b[0m\n\u001b[1;32m    664\u001b[0m \u001b[0;34m\u001b[0m\u001b[0m\n",
      "\u001b[0;32m/Users/yeehanchan/anaconda/lib/python2.7/site-packages/sklearn/externals/joblib/parallel.pyc\u001b[0m in \u001b[0;36m_dispatch\u001b[0;34m(self, batch)\u001b[0m\n\u001b[1;32m    568\u001b[0m \u001b[0;34m\u001b[0m\u001b[0m\n\u001b[1;32m    569\u001b[0m         \u001b[0;32mif\u001b[0m \u001b[0mself\u001b[0m\u001b[0;34m.\u001b[0m\u001b[0m_pool\u001b[0m \u001b[0;32mis\u001b[0m \u001b[0mNone\u001b[0m\u001b[0;34m:\u001b[0m\u001b[0;34m\u001b[0m\u001b[0m\n\u001b[0;32m--> 570\u001b[0;31m             \u001b[0mjob\u001b[0m \u001b[0;34m=\u001b[0m \u001b[0mImmediateComputeBatch\u001b[0m\u001b[0;34m(\u001b[0m\u001b[0mbatch\u001b[0m\u001b[0;34m)\u001b[0m\u001b[0;34m\u001b[0m\u001b[0m\n\u001b[0m\u001b[1;32m    571\u001b[0m             \u001b[0mself\u001b[0m\u001b[0;34m.\u001b[0m\u001b[0m_jobs\u001b[0m\u001b[0;34m.\u001b[0m\u001b[0mappend\u001b[0m\u001b[0;34m(\u001b[0m\u001b[0mjob\u001b[0m\u001b[0;34m)\u001b[0m\u001b[0;34m\u001b[0m\u001b[0m\n\u001b[1;32m    572\u001b[0m             \u001b[0mself\u001b[0m\u001b[0;34m.\u001b[0m\u001b[0mn_dispatched_batches\u001b[0m \u001b[0;34m+=\u001b[0m \u001b[0;36m1\u001b[0m\u001b[0;34m\u001b[0m\u001b[0m\n",
      "\u001b[0;32m/Users/yeehanchan/anaconda/lib/python2.7/site-packages/sklearn/externals/joblib/parallel.pyc\u001b[0m in \u001b[0;36m__init__\u001b[0;34m(self, batch)\u001b[0m\n\u001b[1;32m    181\u001b[0m         \u001b[0;31m# Don't delay the application, to avoid keeping the input\u001b[0m\u001b[0;34m\u001b[0m\u001b[0;34m\u001b[0m\u001b[0m\n\u001b[1;32m    182\u001b[0m         \u001b[0;31m# arguments in memory\u001b[0m\u001b[0;34m\u001b[0m\u001b[0;34m\u001b[0m\u001b[0m\n\u001b[0;32m--> 183\u001b[0;31m         \u001b[0mself\u001b[0m\u001b[0;34m.\u001b[0m\u001b[0mresults\u001b[0m \u001b[0;34m=\u001b[0m \u001b[0mbatch\u001b[0m\u001b[0;34m(\u001b[0m\u001b[0;34m)\u001b[0m\u001b[0;34m\u001b[0m\u001b[0m\n\u001b[0m\u001b[1;32m    184\u001b[0m \u001b[0;34m\u001b[0m\u001b[0m\n\u001b[1;32m    185\u001b[0m     \u001b[0;32mdef\u001b[0m \u001b[0mget\u001b[0m\u001b[0;34m(\u001b[0m\u001b[0mself\u001b[0m\u001b[0;34m)\u001b[0m\u001b[0;34m:\u001b[0m\u001b[0;34m\u001b[0m\u001b[0m\n",
      "\u001b[0;32m/Users/yeehanchan/anaconda/lib/python2.7/site-packages/sklearn/externals/joblib/parallel.pyc\u001b[0m in \u001b[0;36m__call__\u001b[0;34m(self)\u001b[0m\n\u001b[1;32m     70\u001b[0m \u001b[0;34m\u001b[0m\u001b[0m\n\u001b[1;32m     71\u001b[0m     \u001b[0;32mdef\u001b[0m \u001b[0m__call__\u001b[0m\u001b[0;34m(\u001b[0m\u001b[0mself\u001b[0m\u001b[0;34m)\u001b[0m\u001b[0;34m:\u001b[0m\u001b[0;34m\u001b[0m\u001b[0m\n\u001b[0;32m---> 72\u001b[0;31m         \u001b[0;32mreturn\u001b[0m \u001b[0;34m[\u001b[0m\u001b[0mfunc\u001b[0m\u001b[0;34m(\u001b[0m\u001b[0;34m*\u001b[0m\u001b[0margs\u001b[0m\u001b[0;34m,\u001b[0m \u001b[0;34m**\u001b[0m\u001b[0mkwargs\u001b[0m\u001b[0;34m)\u001b[0m \u001b[0;32mfor\u001b[0m \u001b[0mfunc\u001b[0m\u001b[0;34m,\u001b[0m \u001b[0margs\u001b[0m\u001b[0;34m,\u001b[0m \u001b[0mkwargs\u001b[0m \u001b[0;32min\u001b[0m \u001b[0mself\u001b[0m\u001b[0;34m.\u001b[0m\u001b[0mitems\u001b[0m\u001b[0;34m]\u001b[0m\u001b[0;34m\u001b[0m\u001b[0m\n\u001b[0m\u001b[1;32m     73\u001b[0m \u001b[0;34m\u001b[0m\u001b[0m\n\u001b[1;32m     74\u001b[0m     \u001b[0;32mdef\u001b[0m \u001b[0m__len__\u001b[0m\u001b[0;34m(\u001b[0m\u001b[0mself\u001b[0m\u001b[0;34m)\u001b[0m\u001b[0;34m:\u001b[0m\u001b[0;34m\u001b[0m\u001b[0m\n",
      "\u001b[0;32m/Users/yeehanchan/anaconda/lib/python2.7/site-packages/sklearn/cross_validation.pyc\u001b[0m in \u001b[0;36m_fit_and_score\u001b[0;34m(estimator, X, y, scorer, train, test, verbose, parameters, fit_params, return_train_score, return_parameters, error_score)\u001b[0m\n\u001b[1;32m   1548\u001b[0m \u001b[0;34m\u001b[0m\u001b[0m\n\u001b[1;32m   1549\u001b[0m     \u001b[0;32melse\u001b[0m\u001b[0;34m:\u001b[0m\u001b[0;34m\u001b[0m\u001b[0m\n\u001b[0;32m-> 1550\u001b[0;31m         \u001b[0mtest_score\u001b[0m \u001b[0;34m=\u001b[0m \u001b[0m_score\u001b[0m\u001b[0;34m(\u001b[0m\u001b[0mestimator\u001b[0m\u001b[0;34m,\u001b[0m \u001b[0mX_test\u001b[0m\u001b[0;34m,\u001b[0m \u001b[0my_test\u001b[0m\u001b[0;34m,\u001b[0m \u001b[0mscorer\u001b[0m\u001b[0;34m)\u001b[0m\u001b[0;34m\u001b[0m\u001b[0m\n\u001b[0m\u001b[1;32m   1551\u001b[0m         \u001b[0;32mif\u001b[0m \u001b[0mreturn_train_score\u001b[0m\u001b[0;34m:\u001b[0m\u001b[0;34m\u001b[0m\u001b[0m\n\u001b[1;32m   1552\u001b[0m             \u001b[0mtrain_score\u001b[0m \u001b[0;34m=\u001b[0m \u001b[0m_score\u001b[0m\u001b[0;34m(\u001b[0m\u001b[0mestimator\u001b[0m\u001b[0;34m,\u001b[0m \u001b[0mX_train\u001b[0m\u001b[0;34m,\u001b[0m \u001b[0my_train\u001b[0m\u001b[0;34m,\u001b[0m \u001b[0mscorer\u001b[0m\u001b[0;34m)\u001b[0m\u001b[0;34m\u001b[0m\u001b[0m\n",
      "\u001b[0;32m/Users/yeehanchan/anaconda/lib/python2.7/site-packages/sklearn/cross_validation.pyc\u001b[0m in \u001b[0;36m_score\u001b[0;34m(estimator, X_test, y_test, scorer)\u001b[0m\n\u001b[1;32m   1604\u001b[0m         \u001b[0mscore\u001b[0m \u001b[0;34m=\u001b[0m \u001b[0mscorer\u001b[0m\u001b[0;34m(\u001b[0m\u001b[0mestimator\u001b[0m\u001b[0;34m,\u001b[0m \u001b[0mX_test\u001b[0m\u001b[0;34m)\u001b[0m\u001b[0;34m\u001b[0m\u001b[0m\n\u001b[1;32m   1605\u001b[0m     \u001b[0;32melse\u001b[0m\u001b[0;34m:\u001b[0m\u001b[0;34m\u001b[0m\u001b[0m\n\u001b[0;32m-> 1606\u001b[0;31m         \u001b[0mscore\u001b[0m \u001b[0;34m=\u001b[0m \u001b[0mscorer\u001b[0m\u001b[0;34m(\u001b[0m\u001b[0mestimator\u001b[0m\u001b[0;34m,\u001b[0m \u001b[0mX_test\u001b[0m\u001b[0;34m,\u001b[0m \u001b[0my_test\u001b[0m\u001b[0;34m)\u001b[0m\u001b[0;34m\u001b[0m\u001b[0m\n\u001b[0m\u001b[1;32m   1607\u001b[0m     \u001b[0;32mif\u001b[0m \u001b[0;32mnot\u001b[0m \u001b[0misinstance\u001b[0m\u001b[0;34m(\u001b[0m\u001b[0mscore\u001b[0m\u001b[0;34m,\u001b[0m \u001b[0mnumbers\u001b[0m\u001b[0;34m.\u001b[0m\u001b[0mNumber\u001b[0m\u001b[0;34m)\u001b[0m\u001b[0;34m:\u001b[0m\u001b[0;34m\u001b[0m\u001b[0m\n\u001b[1;32m   1608\u001b[0m         raise ValueError(\"scoring must return a number, got %s (%s) instead.\"\n",
      "\u001b[0;32m/Users/yeehanchan/anaconda/lib/python2.7/site-packages/sklearn/metrics/scorer.pyc\u001b[0m in \u001b[0;36m_passthrough_scorer\u001b[0;34m(estimator, *args, **kwargs)\u001b[0m\n\u001b[1;32m    203\u001b[0m \u001b[0;32mdef\u001b[0m \u001b[0m_passthrough_scorer\u001b[0m\u001b[0;34m(\u001b[0m\u001b[0mestimator\u001b[0m\u001b[0;34m,\u001b[0m \u001b[0;34m*\u001b[0m\u001b[0margs\u001b[0m\u001b[0;34m,\u001b[0m \u001b[0;34m**\u001b[0m\u001b[0mkwargs\u001b[0m\u001b[0;34m)\u001b[0m\u001b[0;34m:\u001b[0m\u001b[0;34m\u001b[0m\u001b[0m\n\u001b[1;32m    204\u001b[0m     \u001b[0;34m\"\"\"Function that wraps estimator.score\"\"\"\u001b[0m\u001b[0;34m\u001b[0m\u001b[0m\n\u001b[0;32m--> 205\u001b[0;31m     \u001b[0;32mreturn\u001b[0m \u001b[0mestimator\u001b[0m\u001b[0;34m.\u001b[0m\u001b[0mscore\u001b[0m\u001b[0;34m(\u001b[0m\u001b[0;34m*\u001b[0m\u001b[0margs\u001b[0m\u001b[0;34m,\u001b[0m \u001b[0;34m**\u001b[0m\u001b[0mkwargs\u001b[0m\u001b[0;34m)\u001b[0m\u001b[0;34m\u001b[0m\u001b[0m\n\u001b[0m\u001b[1;32m    206\u001b[0m \u001b[0;34m\u001b[0m\u001b[0m\n\u001b[1;32m    207\u001b[0m \u001b[0;34m\u001b[0m\u001b[0m\n",
      "\u001b[0;32m/Users/yeehanchan/anaconda/lib/python2.7/site-packages/sklearn/base.pyc\u001b[0m in \u001b[0;36mscore\u001b[0;34m(self, X, y, sample_weight)\u001b[0m\n\u001b[1;32m    308\u001b[0m         \"\"\"\n\u001b[1;32m    309\u001b[0m         \u001b[0;32mfrom\u001b[0m \u001b[0;34m.\u001b[0m\u001b[0mmetrics\u001b[0m \u001b[0;32mimport\u001b[0m \u001b[0maccuracy_score\u001b[0m\u001b[0;34m\u001b[0m\u001b[0m\n\u001b[0;32m--> 310\u001b[0;31m         \u001b[0;32mreturn\u001b[0m \u001b[0maccuracy_score\u001b[0m\u001b[0;34m(\u001b[0m\u001b[0my\u001b[0m\u001b[0;34m,\u001b[0m \u001b[0mself\u001b[0m\u001b[0;34m.\u001b[0m\u001b[0mpredict\u001b[0m\u001b[0;34m(\u001b[0m\u001b[0mX\u001b[0m\u001b[0;34m)\u001b[0m\u001b[0;34m,\u001b[0m \u001b[0msample_weight\u001b[0m\u001b[0;34m=\u001b[0m\u001b[0msample_weight\u001b[0m\u001b[0;34m)\u001b[0m\u001b[0;34m\u001b[0m\u001b[0m\n\u001b[0m\u001b[1;32m    311\u001b[0m \u001b[0;34m\u001b[0m\u001b[0m\n\u001b[1;32m    312\u001b[0m \u001b[0;34m\u001b[0m\u001b[0m\n",
      "\u001b[0;32m/Users/yeehanchan/anaconda/lib/python2.7/site-packages/sklearn/naive_bayes.pyc\u001b[0m in \u001b[0;36mpredict\u001b[0;34m(self, X)\u001b[0m\n\u001b[1;32m     63\u001b[0m             \u001b[0mPredicted\u001b[0m \u001b[0mtarget\u001b[0m \u001b[0mvalues\u001b[0m \u001b[0;32mfor\u001b[0m \u001b[0mX\u001b[0m\u001b[0;34m\u001b[0m\u001b[0m\n\u001b[1;32m     64\u001b[0m         \"\"\"\n\u001b[0;32m---> 65\u001b[0;31m         \u001b[0mjll\u001b[0m \u001b[0;34m=\u001b[0m \u001b[0mself\u001b[0m\u001b[0;34m.\u001b[0m\u001b[0m_joint_log_likelihood\u001b[0m\u001b[0;34m(\u001b[0m\u001b[0mX\u001b[0m\u001b[0;34m)\u001b[0m\u001b[0;34m\u001b[0m\u001b[0m\n\u001b[0m\u001b[1;32m     66\u001b[0m         \u001b[0;32mreturn\u001b[0m \u001b[0mself\u001b[0m\u001b[0;34m.\u001b[0m\u001b[0mclasses_\u001b[0m\u001b[0;34m[\u001b[0m\u001b[0mnp\u001b[0m\u001b[0;34m.\u001b[0m\u001b[0margmax\u001b[0m\u001b[0;34m(\u001b[0m\u001b[0mjll\u001b[0m\u001b[0;34m,\u001b[0m \u001b[0maxis\u001b[0m\u001b[0;34m=\u001b[0m\u001b[0;36m1\u001b[0m\u001b[0;34m)\u001b[0m\u001b[0;34m]\u001b[0m\u001b[0;34m\u001b[0m\u001b[0m\n\u001b[1;32m     67\u001b[0m \u001b[0;34m\u001b[0m\u001b[0m\n",
      "\u001b[0;32m/Users/yeehanchan/anaconda/lib/python2.7/site-packages/sklearn/naive_bayes.pyc\u001b[0m in \u001b[0;36m_joint_log_likelihood\u001b[0;34m(self, X)\u001b[0m\n\u001b[1;32m    392\u001b[0m             \u001b[0mjointi\u001b[0m \u001b[0;34m=\u001b[0m \u001b[0mnp\u001b[0m\u001b[0;34m.\u001b[0m\u001b[0mlog\u001b[0m\u001b[0;34m(\u001b[0m\u001b[0mself\u001b[0m\u001b[0;34m.\u001b[0m\u001b[0mclass_prior_\u001b[0m\u001b[0;34m[\u001b[0m\u001b[0mi\u001b[0m\u001b[0;34m]\u001b[0m\u001b[0;34m)\u001b[0m\u001b[0;34m\u001b[0m\u001b[0m\n\u001b[1;32m    393\u001b[0m             \u001b[0mn_ij\u001b[0m \u001b[0;34m=\u001b[0m \u001b[0;34m-\u001b[0m \u001b[0;36m0.5\u001b[0m \u001b[0;34m*\u001b[0m \u001b[0mnp\u001b[0m\u001b[0;34m.\u001b[0m\u001b[0msum\u001b[0m\u001b[0;34m(\u001b[0m\u001b[0mnp\u001b[0m\u001b[0;34m.\u001b[0m\u001b[0mlog\u001b[0m\u001b[0;34m(\u001b[0m\u001b[0;36m2.\u001b[0m \u001b[0;34m*\u001b[0m \u001b[0mnp\u001b[0m\u001b[0;34m.\u001b[0m\u001b[0mpi\u001b[0m \u001b[0;34m*\u001b[0m \u001b[0mself\u001b[0m\u001b[0;34m.\u001b[0m\u001b[0msigma_\u001b[0m\u001b[0;34m[\u001b[0m\u001b[0mi\u001b[0m\u001b[0;34m,\u001b[0m \u001b[0;34m:\u001b[0m\u001b[0;34m]\u001b[0m\u001b[0;34m)\u001b[0m\u001b[0;34m)\u001b[0m\u001b[0;34m\u001b[0m\u001b[0m\n\u001b[0;32m--> 394\u001b[0;31m             n_ij -= 0.5 * np.sum(((X - self.theta_[i, :]) ** 2) /\n\u001b[0m\u001b[1;32m    395\u001b[0m                                  (self.sigma_[i, :]), 1)\n\u001b[1;32m    396\u001b[0m             \u001b[0mjoint_log_likelihood\u001b[0m\u001b[0;34m.\u001b[0m\u001b[0mappend\u001b[0m\u001b[0;34m(\u001b[0m\u001b[0mjointi\u001b[0m \u001b[0;34m+\u001b[0m \u001b[0mn_ij\u001b[0m\u001b[0;34m)\u001b[0m\u001b[0;34m\u001b[0m\u001b[0m\n",
      "\u001b[0;31mKeyboardInterrupt\u001b[0m: "
     ]
    }
   ],
   "source": [
    "from sklearn.naive_bayes import GaussianNB\n",
    "for a in [0.01,0.1,1,10,100]:\n",
    "    for b in [0.1,0.3,0.5,0.7,0.9]:\n",
    "        gnb = GaussianNB()\n",
    "#        bnb.fit(scale_alexnet,train_label)\n",
    "        score = cross_validation.cross_val_score(gnb,scale_alexnet,train_label,cv=5)\n",
    "        print a,b,score.mean()"
   ]
  },
  {
   "cell_type": "code",
   "execution_count": 64,
   "metadata": {
    "collapsed": false
   },
   "outputs": [
    {
     "name": "stdout",
     "output_type": "stream",
     "text": [
      "['lawn' 'rubble' 'forest_road' 'harbor' 'tower' 'forest_road'\n",
      " 'television_studio' 'shoe_shop' 'junk_pile' 'aquatic_theater' 'cliff'\n",
      " 'tea_garden' 'building_facade' 'roof' 'windmill' 'swamp' 'forest_road'\n",
      " 'rubble' 'raceway' 'living_room' 'glacier' 'closet' 'gorge' 'drugstore'\n",
      " 'fishpond' 'science_museum' 'banquet_hall' 'piano_store' 'forest_road'\n",
      " 'submarine_interior' 'bus_interior' 'science_museum' 'sawmill'\n",
      " 'forest_road' 'dining_car' 'manhole' 'recreation_room' 'orchard'\n",
      " 'voting_booth' 'bus_interior' 'bamboo_forest' 'dorm_room' 'town_house'\n",
      " 'amusement_park' 'yard' 'building_facade' 'yard' 'airplane_cabin'\n",
      " 'hallway' 'coffee_shop' 'shoe_shop' 'voting_booth' 'physics_laboratory'\n",
      " 'fort' 'rock_arch' 'rainforest' 'airplane_cabin' 'windmill' 'sawmill'\n",
      " 'tea_garden' 'pet_shop' 'raceway' 'manhole' 'rainforest' 'hallway' 'attic'\n",
      " 'canteen' 'forest_road' 'music_studio' 'dentists_office' 'bayou' 'canteen'\n",
      " 'campsite' 'ocean' 'newsroom' 'art_school' 'voting_booth' 'cemetery'\n",
      " 'bookstore' 'assembly_line' 'butchers_shop' 'computer_room' 'sea_cliff'\n",
      " 'football_field' 'shopfront' 'yard' 'newsroom' 'physics_laboratory'\n",
      " 'sandbar' 'aquatic_theater' 'street' 'yard' 'tearoom' 'hill' 'classroom'\n",
      " 'food_court' 'water_mill' 'fence' 'baseball_field' 'classroom' 'basement'\n",
      " 'aquatic_theater' 'football_field' 'restaurant' 'fishpond' 'bayou' 'creek'\n",
      " 'airfield' 'cliff' 'bus_interior' 'beach' 'videostore' 'art_studio'\n",
      " 'sawmill' 'butchers_shop' 'office' 'kindergarden_classroom' 'sawmill'\n",
      " 'hill' 'amusement_park' 'watering_hole' 'roof' 'naval_base' 'forest_road'\n",
      " 'bayou' 'dining_hall' 'tea_garden' 'park' 'town_house' 'bus_interior'\n",
      " 'forest_road' 'winery' 'fishpond' 'cemetery' 'dam' 'art_studio' 'roof'\n",
      " 'forest_road' 'cheese_factory' 'airplane_cabin' 'golf_course' 'courtyard'\n",
      " 'aquarium' 'cottage_garden' 'snowfield' 'oasis' 'orchard' 'lawn'\n",
      " 'airplane_cabin' 'cliff' 'river' 'ranch' 'phone_booth' 'parking_lot'\n",
      " 'parlor' 'highway' 'airplane_cabin' 'sandbar' 'coffee_shop'\n",
      " 'cottage_garden' 'voting_booth' 'mansion' 'town_house' 'airplane_cabin'\n",
      " 'gasworks' 'dorm_room' 'office_building' 'classroom' 'television_studio'\n",
      " 'reading_room' 'cliff' 'forest_road' 'airplane_cabin' 'glacier'\n",
      " 'courtroom' 'newsroom' 'picnic_area' 'dentists_office' 'dining_car'\n",
      " 'voting_booth' 'sandbar' 'naval_base' 'airplane_cabin' 'freeway'\n",
      " 'recreation_room' 'forest_road' 'sawmill' 'science_museum' 'yard' 'pond'\n",
      " 'sawmill' 'amusement_park' 'cottage_garden' 'dorm_room' 'science_museum'\n",
      " 'newsroom' 'butchers_shop' 'watering_hole' 'railway_yard' 'campsite'\n",
      " 'sandbar' 'kindergarden_classroom' 'sky' 'dentists_office'\n",
      " 'airplane_cabin' 'downtown' 'art_studio' 'piano_store' 'aquarium'\n",
      " 'junk_pile' 'dentists_office' 'classroom' 'forest_road' 'bar' 'sandbar'\n",
      " 'boat_deck' 'castle' 'forest_road' 'crosswalk' 'ocean' 'castle'\n",
      " 'videostore' 'forest_road' 'valley' 'amphitheater' 'airplane_cabin'\n",
      " 'voting_booth' 'television_studio' 'bedroom' 'railway_yard' 'seawall'\n",
      " 'baseball_field' 'pharmacy' 'dining_hall' 'shopfront' 'woodland'\n",
      " 'building_facade' 'snowfield' 'baseball_field' 'airfield' 'bayou' 'resort'\n",
      " 'yard' 'cheese_factory' 'living_room' 'science_museum' 'cemetery'\n",
      " 'kindergarden_classroom' 'newsroom' 'ski_resort' 'phone_booth' 'reception'\n",
      " 'trailer_park' 'canteen' 'city' 'pavilion' 'aquarium' 'hallway'\n",
      " 'forest_road' 'sawmill' 'golf_course' 'roof' 'schoolhouse' 'rubble'\n",
      " 'downtown' 'pagoda' 'television_studio' 'gas_station' 'art_school'\n",
      " 'watering_hole' 'aquatic_theater' 'badlands' 'tea_garden' 'forest_road'\n",
      " 'amusement_arcade' 'cliff' 'fishpond' 'banquet_hall' 'glacier'\n",
      " 'aquatic_theater' 'art_gallery' 'amusement_arcade' 'sky' 'airfield'\n",
      " 'gas_station' 'airplane_cabin' 'pagoda' 'archive' 'gasworks'\n",
      " 'voting_booth' 'archive' 'gas_station' 'raceway' 'assembly_line'\n",
      " 'dorm_room' 'chapel' 'yard' 'bowling_alley' 'piano_store' 'nightclub'\n",
      " 'forest_road' 'tea_garden' 'badlands' 'archive' 'building_facade'\n",
      " 'ski_slope' 'canteen' 'islet' 'dining_hall' 'coffee_shop' 'manhole'\n",
      " 'tower' 'cheese_factory' 'nightclub' 'yard' 'pet_shop' 'cheese_factory'\n",
      " 'playground' 'airfield' 'airplane_cabin' 'cottage' 'forest_road'\n",
      " 'rainforest' 'dorm_room' 'desert_road' 'banquet_hall' 'football_field'\n",
      " 'dentists_office' 'rainforest' 'playground' 'gas_station' 'vineyard'\n",
      " 'river' 'bar' 'art_gallery' 'music_studio' 'bar' 'bar' 'banquet_hall'\n",
      " 'ski_slope' 'physics_laboratory' 'amusement_park' 'airplane_cabin'\n",
      " 'golf_course' 'bayou' 'orchard' 'gorge' 'basement' 'town_house' 'fence'\n",
      " 'yard' 'building_facade' 'freeway' 'fishpond' 'campsite' 'living_room'\n",
      " 'canteen' 'ski_slope' 'sandbar' 'building_facade' 'village' 'forest_road'\n",
      " 'courtyard' 'fishpond' 'soccer_field' 'voting_booth' 'forest_road'\n",
      " 'sawmill' 'airplane_cabin' 'bayou' 'tea_garden' 'archive' 'fountain'\n",
      " 'coffee_shop' 'flood' 'rock_arch' 'canteen' 'roof' 'drugstore' 'oasis'\n",
      " 'fountain' 'corridor' 'archive' 'playground' 'raceway' 'gas_station'\n",
      " 'cheese_factory' 'forest_road' 'kindergarden_classroom' 'shoe_shop'\n",
      " 'ranch' 'nightclub' 'boat_deck' 'submarine_interior' 'newsroom'\n",
      " 'bookstore' 'skyscraper' 'science_museum' 'shower' 'physics_laboratory'\n",
      " 'naval_base' 'fishpond' 'bowling_alley' 'clothing_store' 'art_gallery'\n",
      " 'lawn' 'art_school' 'reception' 'archive' 'science_museum' 'barn'\n",
      " 'cafeteria' 'islet' 'windmill' 'piano_store' 'pond' 'amusement_park'\n",
      " 'gas_station' 'voting_booth' 'campsite' 'phone_booth' 'hayfield'\n",
      " 'television_studio' 'airplane_cabin' 'amphitheater' 'lecture_room' 'ranch'\n",
      " 'gas_station' 'classroom' 'airplane_cabin' 'fountain' 'yard' 'fishpond'\n",
      " 'ski_slope' 'manhole' 'dentists_office' 'sawmill' 'amusement_park'\n",
      " 'art_studio' 'cheese_factory' 'nightclub' 'shoe_shop' 'ranch'\n",
      " 'trailer_park' 'shopfront' 'recreation_room' 'coffee_shop' 'fence'\n",
      " 'crosswalk' 'art_school' 'newsroom' 'junk_pile' 'science_museum' 'beach'\n",
      " 'aquarium' 'archive' 'building_facade' 'repair_shop' 'bathroom'\n",
      " 'art_school' 'islet' 'airplane_cabin' 'motel' 'nightclub' 'science_museum'\n",
      " 'art_studio' 'archive' 'fishpond' 'armory' 'conference_room' 'gas_station'\n",
      " 'river' 'mountain_road' 'forest_road' 'dining_hall' 'rock_arch' 'bayou'\n",
      " 'mine' 'dining_car' 'ski_slope' 'cafeteria' 'rubble' 'airplane_cabin'\n",
      " 'raceway' 'picnic_area' 'city' 'fishpond' 'science_museum' 'park' 'bayou'\n",
      " 'airplane_cabin' 'mansion' 'amusement_park' 'cliff' 'clothing_store'\n",
      " 'orchard' 'ocean' 'amphitheater' 'pasture' 'archive' 'gas_station'\n",
      " 'art_school' 'river' 'dorm_room' 'golf_course' 'amusement_park'\n",
      " 'assembly_line' 'schoolhouse' 'fence' 'orchard' 'plaza' 'junk_pile'\n",
      " 'newsroom' 'ocean' 'bayou' 'banquet_hall' 'food_court' 'ranch' 'lawn'\n",
      " 'yard' 'elevator_lobby' 'football_field' 'rock_arch' 'amusement_park'\n",
      " 'cliff' 'forest_road' 'vineyard' 'bathroom' 'golf_course' 'park'\n",
      " 'aquatic_theater' 'amphitheater' 'airfield' 'bicycle_racks' 'coffee_shop'\n",
      " 'armory' 'mine' 'bridge' 'lawn' 'recreation_room' 'airplane_cabin' 'tower'\n",
      " 'fence' 'airplane_cabin' 'sandbar' 'glacier' 'ski_slope' 'beach'\n",
      " 'forest_road' 'construction_site' 'fishpond' 'clothing_store'\n",
      " 'piano_store' 'forest_road' 'train_railway' 'science_museum' 'golf_course'\n",
      " 'television_studio' 'airplane_cabin' 'science_museum' 'street' 'downtown'\n",
      " 'village' 'dining_car' 'mine' 'golf_course' 'forest_road'\n",
      " 'office_building' 'physics_laboratory' 'amusement_park' 'classroom'\n",
      " 'forest_road' 'ocean' 'art_school' 'dentists_office' 'voting_booth'\n",
      " 'cliff' 'cliff' 'canyon' 'freeway' 'hospital' 'forest_road' 'fishpond'\n",
      " 'football_field' 'forest_road' 'parking_lot' 'banquet_hall'\n",
      " 'building_facade' 'forest_road' 'ski_slope' 'river' 'parking_lot'\n",
      " 'courtyard' 'raceway' 'banquet_hall' 'gas_station' 'amusement_park'\n",
      " 'butchers_shop' 'fishpond' 'bamboo_forest' 'cliff' 'videostore'\n",
      " 'bus_interior' 'forest_road' 'lab_classroom' 'roof' 'drugstore' 'pet_shop'\n",
      " 'resort' 'newsroom' 'creek' 'campsite' 'television_studio' 'dining_car'\n",
      " 'crosswalk' 'bowling_alley' 'playground' 'art_studio' 'videostore'\n",
      " 'amusement_park' 'fishpond' 'cliff' 'ramp' 'tower' 'teashop' 'cliff'\n",
      " 'canteen' 'conference_room' 'newsroom' 'art_school' 'nightclub' 'canteen'\n",
      " 'village' 'bar' 'downtown' 'dining_car' 'building_facade' 'river'\n",
      " 'ranch_house' 'islet' 'food_court' 'rock_arch' 'ranch' 'conference_room'\n",
      " 'art_studio' 'shower' 'drugstore' 'mountain' 'airplane_cabin' 'gift_shop'\n",
      " 'submarine_interior' 'submarine_interior' 'kindergarden_classroom'\n",
      " 'chapel' 'oasis' 'seawall' 'voting_booth' 'physics_laboratory' 'orchard'\n",
      " 'seawall' 'forest_road' 'amusement_arcade' 'voting_booth' 'ice_shelf'\n",
      " 'river' 'playground' 'dentists_office' 'computer_room' 'forest_road'\n",
      " 'rubble' 'voting_booth' 'dam' 'railway_yard' 'sawmill' 'butchers_shop'\n",
      " 'city' 'art_studio' 'valley' 'downtown' 'sandbar' 'skyscraper' 'archive'\n",
      " 'yard' 'art_school' 'shoe_shop' 'palace' 'pond' 'voting_booth' 'closet'\n",
      " 'lecture_room' 'bedroom' 'fishpond' 'banquet_hall' 'mountain' 'bar'\n",
      " 'fishpond' 'cheese_factory' 'forest_road' 'roof' 'river' 'butchers_shop'\n",
      " 'art_studio' 'cliff' 'football_field' 'orchard' 'fountain' 'forest_road'\n",
      " 'art_studio' 'pavilion' 'physics_laboratory' 'bicycle_racks'\n",
      " 'dentists_office' 'building_facade' 'campsite' 'farm' 'cafeteria'\n",
      " 'glacier' 'rubble' 'bookstore' 'fountain' 'islet' 'snowfield' 'bar'\n",
      " 'desert_road' 'cottage_garden' 'beach' 'dentists_office' 'cheese_factory'\n",
      " 'roof' 'mountain_road' 'lawn' 'downtown' 'dentists_office' 'aquarium'\n",
      " 'chapel' 'videostore' 'art_school' 'voting_booth' 'fishpond'\n",
      " 'train_railway' 'banquet_hall' 'fence' 'naval_base' 'aquarium'\n",
      " 'repair_shop' 'schoolhouse' 'tower' 'pagoda' 'auditorium' 'airfield'\n",
      " 'raceway' 'rainforest' 'glacier' 'voting_booth' 'farm' 'dining_car'\n",
      " 'classroom' 'nightclub' 'gas_station' 'bowling_alley' 'glacier'\n",
      " 'town_house' 'clothing_store' 'playground' 'manhole' 'nightclub'\n",
      " 'cheese_factory' 'naval_base' 'rubble' 'videostore' 'art_gallery'\n",
      " 'art_gallery' 'science_museum' 'bus_interior' 'fort' 'bookstore'\n",
      " 'videostore' 'campsite' 'sawmill' 'aquatic_theater' 'aquatic_theater'\n",
      " 'water_tower' 'watering_hole' 'bus_shelter' 'computer_room' 'freeway'\n",
      " 'newsroom' 'ski_slope' 'archive' 'trailer_park' 'submarine_interior'\n",
      " 'street' 'mountain' 'office' 'crosswalk' 'snowfield' 'art_school'\n",
      " 'fishpond' 'fishpond' 'mountain_road' 'art_school' 'classroom' 'cemetery'\n",
      " 'submarine_interior' 'gasworks' 'art_studio' 'ski_slope' 'crosswalk'\n",
      " 'hill' 'canteen' 'snowfield' 'forest_road' 'pagoda' 'pet_shop' 'campsite'\n",
      " 'tower' 'chapel' 'canteen' 'pasture' 'village' 'art_school' 'beach'\n",
      " 'banquet_hall' 'forest_road' 'harbor' 'sky' 'videostore' 'music_studio'\n",
      " 'seawall' 'bayou' 'palace' 'canteen' 'sawmill' 'manhole' 'art_school'\n",
      " 'islet' 'windmill' 'ocean' 'courtyard' 'farm' 'badlands' 'amphitheater'\n",
      " 'conference_room' 'amphitheater' 'ski_slope' 'bookstore' 'tea_garden'\n",
      " 'amphitheater' 'art_school' 'canteen' 'forest_road' 'newsroom' 'raceway'\n",
      " 'water_tower' 'sandbar' 'aquarium' 'airplane_cabin' 'resort'\n",
      " 'bowling_alley' 'junk_pile' 'city' 'river' 'rainforest' 'tea_garden'\n",
      " 'canteen' 'bus_interior' 'yard' 'bus_interior' 'creek' 'newsroom'\n",
      " 'snowfield' 'airfield' 'amusement_arcade' 'archive' 'sawmill' 'pagoda'\n",
      " 'pharmacy' 'hill' 'golf_course' 'raceway' 'videostore' 'bayou'\n",
      " 'television_studio' 'cottage_garden' 'television_studio' 'piano_store'\n",
      " 'bookstore' 'schoolhouse' 'kitchen' 'newsroom' 'art_school' 'teashop'\n",
      " 'parking_lot' 'trailer_park' 'music_studio' 'lawn' 'lawn' 'airplane_cabin'\n",
      " 'pavilion' 'airplane_cabin' 'winery' 'physics_laboratory' 'harbor'\n",
      " 'assembly_line' 'banquet_hall' 'river' 'bookstore' 'airplane_cabin'\n",
      " 'piano_store' 'piano_store' 'shoe_shop' 'food_court' 'shower'\n",
      " 'airplane_cabin' 'television_studio' 'baseball_field' 'art_studio'\n",
      " 'sandbar' 'basement' 'boat_deck' 'golf_course' 'bamboo_forest'\n",
      " 'art_school' 'bookstore' 'dining_car' 'amusement_park' 'fishpond'\n",
      " 'physics_laboratory' 'forest_road' 'lawn' 'art_school' 'cottage_garden'\n",
      " 'rock_arch' 'archive' 'downtown' 'sawmill' 'science_museum' 'canteen'\n",
      " 'downtown' 'science_museum' 'voting_booth' 'cemetery' 'parlor'\n",
      " 'amusement_park' 'mountain_road' 'aquarium' 'rock_arch' 'auditorium'\n",
      " 'airplane_cabin' 'airplane_cabin' 'forest_road' 'art_school' 'aquarium'\n",
      " 'snowfield' 'mountain' 'playground' 'forest_road' 'bar' 'shopfront'\n",
      " 'forest_road' 'science_museum' 'cliff' 'swamp' 'physics_laboratory'\n",
      " 'bowling_alley' 'airplane_cabin' 'forest_road' 'dining_hall' 'fence'\n",
      " 'mountain' 'tea_garden' 'airplane_cabin' 'airfield' 'staircase' 'pavilion'\n",
      " 'television_studio' 'chapel' 'corridor' 'manhole' 'phone_booth'\n",
      " 'reception' 'canteen' 'lecture_room' 'piano_store' 'bowling_alley'\n",
      " 'campsite' 'aquarium' 'pet_shop' 'forest_road' 'bowling_alley' 'crosswalk'\n",
      " 'art_school' 'fishpond' 'archive' 'assembly_line' 'yard' 'voting_booth'\n",
      " 'television_studio' 'physics_laboratory' 'tea_garden']\n"
     ]
    }
   ],
   "source": [
    "gnb = GaussianNB()\n",
    "gnb.fit(scale_alexnet,train_label)\n",
    "predicts = gnb.predict(scale_alexnet_test)\n",
    "print predicts"
   ]
  },
  {
   "cell_type": "code",
   "execution_count": 60,
   "metadata": {
    "collapsed": true
   },
   "outputs": [],
   "source": [
    "import csv\n",
    "with open(\"semi_supervised_result.txt\",'w') as f:\n",
    "    writer = csv.writer(f)\n",
    "    writer.writerow([\"ID\",\"Category\"])\n",
    "    for i in range(len(predicts)):\n",
    "        writer.writerow([test_id[i],predicts[i]])"
   ]
  },
  {
   "cell_type": "code",
   "execution_count": 66,
   "metadata": {
    "collapsed": false
   },
   "outputs": [
    {
     "name": "stdout",
     "output_type": "stream",
     "text": [
      "0.693601619374\n"
     ]
    }
   ],
   "source": [
    "from sklearn.linear_model import LogisticRegression\n",
    "logreg = LogisticRegression(penalty='l2', dual=False, tol=0.0001, C=0.005, fit_intercept=True, intercept_scaling=1, class_weight=None, random_state=None, solver='lbfgs', max_iter=100,verbose=0)\n",
    "score = cross_validation.cross_val_score(logreg,scale_alexnet,train_label,cv=5)\n",
    "print score.mean()"
   ]
  },
  {
   "cell_type": "code",
   "execution_count": 67,
   "metadata": {
    "collapsed": true
   },
   "outputs": [],
   "source": [
    "logreg.fit(scale_alexnet,train_label)\n",
    "predicts = logreg.predict(scale_alexnet_test)"
   ]
  },
  {
   "cell_type": "code",
   "execution_count": 68,
   "metadata": {
    "collapsed": false
   },
   "outputs": [
    {
     "name": "stdout",
     "output_type": "stream",
     "text": [
      "['soccer_field' 'forest_road' 'forest_road' 'harbor' 'tower' 'forest_road'\n",
      " 'forest_road' 'shoe_shop' 'forest_road' 'aquatic_theater' 'forest_road'\n",
      " 'ranch' 'fire_station' 'forest_road' 'windmill' 'swamp' 'forest_road'\n",
      " 'forest_road' 'raceway' 'reception' 'glacier' 'elevator_lobby' 'gorge'\n",
      " 'butchers_shop' 'forest_road' 'forest_road' 'airplane_cabin' 'piano_store'\n",
      " 'forest_road' 'food_court' 'bus_interior' 'science_museum'\n",
      " 'airplane_cabin' 'forest_road' 'dining_car' 'forest_road' 'office'\n",
      " 'orchard' 'closet' 'airplane_cabin' 'bamboo_forest' 'dorm_room'\n",
      " 'town_house' 'airplane_cabin' 'yard' 'town_house' 'yard' 'airplane_cabin'\n",
      " 'hallway' 'parlor' 'armory' 'airplane_cabin' 'physics_laboratory' 'fort'\n",
      " 'forest_road' 'rainforest' 'airplane_cabin' 'windmill' 'sawmill'\n",
      " 'tea_garden' 'videostore' 'raceway' 'manhole' 'rainforest' 'hallway'\n",
      " 'forest_road' 'dorm_room' 'forest_road' 'chemistry_lab' 'boat_deck'\n",
      " 'gas_station' 'airplane_cabin' 'airplane_cabin' 'ocean' 'art_school'\n",
      " 'art_school' 'forest_road' 'farm' 'bookstore' 'gas_station'\n",
      " 'cheese_factory' 'computer_room' 'forest_road' 'soccer_field' 'shopfront'\n",
      " 'yard' 'newsroom' 'television_studio' 'sandbar' 'forest_road' 'street'\n",
      " 'lawn' 'cheese_factory' 'hill' 'office' 'repair_shop' 'water_mill'\n",
      " 'airplane_cabin' 'golf_course' 'newsroom' 'voting_booth' 'aquatic_theater'\n",
      " 'football_field' 'banquet_hall' 'forest_road' 'bayou' 'creek' 'airfield'\n",
      " 'cliff' 'airplane_cabin' 'beach' 'pet_shop' 'art_studio' 'junk_pile'\n",
      " 'butchers_shop' 'office' 'kindergarden_classroom' 'sawmill' 'valley'\n",
      " 'amusement_park' 'airplane_cabin' 'airfield' 'harbor' 'forest_road'\n",
      " 'bayou' 'shoe_shop' 'tea_garden' 'park' 'town_house' 'forest_road'\n",
      " 'forest_road' 'winery' 'forest_road' 'cemetery' 'dam' 'forest_road'\n",
      " 'forest_road' 'forest_road' 'ballroom' 'airplane_cabin' 'pond' 'courtyard'\n",
      " 'aquarium' 'yard' 'snowfield' 'badlands' 'orchard' 'lawn' 'airplane_cabin'\n",
      " 'forest_road' 'forest_road' 'airplane_cabin' 'phone_booth' 'street'\n",
      " 'building_facade' 'highway' 'airplane_cabin' 'sandbar' 'parlor'\n",
      " 'cottage_garden' 'armory' 'mansion' 'city' 'airplane_cabin' 'gasworks'\n",
      " 'art_school' 'airplane_cabin' 'banquet_hall' 'forest_road' 'reading_room'\n",
      " 'gorge' 'forest_road' 'airplane_cabin' 'volcano' 'courtroom'\n",
      " 'science_museum' 'picnic_area' 'dentists_office' 'forest_road' 'sawmill'\n",
      " 'sandbar' 'naval_base' 'airplane_cabin' 'palace' 'recreation_room'\n",
      " 'forest_road' 'forest_road' 'science_museum' 'yard' 'village' 'attic'\n",
      " 'airplane_cabin' 'cottage_garden' 'dorm_room' 'forest_road'\n",
      " 'airplane_cabin' 'butchers_shop' 'airplane_cabin' 'railway_yard'\n",
      " 'tea_garden' 'forest_road' 'kindergarden_classroom' 'sky'\n",
      " 'dentists_office' 'airplane_cabin' 'hospital' 'forest_road' 'piano_store'\n",
      " 'forest_road' 'forest_road' 'voting_booth' 'canteen' 'forest_road'\n",
      " 'coffee_shop' 'naval_base' 'forest_road' 'castle' 'forest_road' 'freeway'\n",
      " 'ocean' 'cliff' 'shopfront' 'forest_road' 'valley' 'forest_road'\n",
      " 'airplane_cabin' 'forest_road' 'forest_road' 'forest_road' 'railway_yard'\n",
      " 'seawall' 'baseball_field' 'airplane_cabin' 'newsroom' 'cemetery'\n",
      " 'woodland' 'building_facade' 'snowfield' 'soccer_field' 'airfield'\n",
      " 'airplane_cabin' 'office_building' 'yard' 'ski_slope' 'living_room'\n",
      " 'forest_road' 'cemetery' 'kindergarden_classroom' 'newsroom' 'snowfield'\n",
      " 'phone_booth' 'reception' 'trailer_park' 'art_school' 'city' 'pavilion'\n",
      " 'forest_road' 'closet' 'forest_road' 'forest_road' 'crosswalk'\n",
      " 'forest_road' 'barn' 'rubble' 'gas_station' 'pagoda' 'assembly_line'\n",
      " 'gas_station' 'art_school' 'watering_hole' 'forest_road' 'badlands'\n",
      " 'tea_garden' 'forest_road' 'forest_road' 'forest_road' 'forest_road'\n",
      " 'airplane_cabin' 'forest_road' 'forest_road' 'ballroom' 'amusement_arcade'\n",
      " 'sky' 'windmill' 'forest_road' 'airplane_cabin' 'pagoda' 'shoe_shop'\n",
      " 'gasworks' 'forest_road' 'archive' 'airplane_cabin' 'raceway' 'canteen'\n",
      " 'voting_booth' 'chapel' 'woodland' 'forest_road' 'conference_room'\n",
      " 'dining_hall' 'forest_road' 'tea_garden' 'badlands' 'utility_room'\n",
      " 'town_house' 'forest_road' 'dining_room' 'sky' 'airplane_cabin' 'chapel'\n",
      " 'manhole' 'tower' 'forest_road' 'nightclub' 'forest_road' 'drugstore'\n",
      " 'cheese_factory' 'playground' 'forest_road' 'airplane_cabin' 'cottage'\n",
      " 'forest_road' 'rainforest' 'dorm_room' 'desert_road' 'banquet_hall'\n",
      " 'airplane_cabin' 'dentists_office' 'watering_hole' 'playground'\n",
      " 'gas_station' 'pasture' 'forest_road' 'bar' 'art_gallery' 'music_studio'\n",
      " 'bookstore' 'bar' 'airplane_cabin' 'ski_slope' 'art_school' 'barn'\n",
      " 'airplane_cabin' 'forest_road' 'bayou' 'cottage_garden' 'ramp' 'basement'\n",
      " 'art_gallery' 'fence' 'yard' 'hospital' 'mansion' 'forest_road'\n",
      " 'forest_road' 'voting_booth' 'newsroom' 'ski_slope' 'forest_road'\n",
      " 'town_house' 'village' 'forest_road' 'building_facade' 'forest_road'\n",
      " 'soccer_field' 'street' 'forest_road' 'forest_road' 'airplane_cabin'\n",
      " 'bayou' 'airfield' 'cheese_factory' 'fountain' 'dining_car' 'forest_road'\n",
      " 'forest_road' 'canteen' 'forest_road' 'gift_shop' 'oasis' 'football_field'\n",
      " 'hallway' 'manhole' 'playground' 'airplane_cabin' 'gas_station' 'hallway'\n",
      " 'forest_road' 'kindergarden_classroom' 'shoe_shop' 'ranch' 'nightclub'\n",
      " 'forest_road' 'submarine_interior' 'kindergarden_classroom' 'drugstore'\n",
      " 'skyscraper' 'forest_road' 'shower' 'physics_laboratory' 'naval_base'\n",
      " 'forest_road' 'bowling_alley' 'clothing_store' 'utility_room'\n",
      " 'baseball_field' 'voting_booth' 'reception' 'archive' 'television_studio'\n",
      " 'barn' 'cafeteria' 'islet' 'windmill' 'television_studio' 'pond'\n",
      " 'amusement_park' 'cottage' 'voting_booth' 'forest_road' 'phone_booth'\n",
      " 'hayfield' 'forest_road' 'airplane_cabin' 'forest_road' 'computer_room'\n",
      " 'ranch' 'airplane_cabin' 'classroom' 'airplane_cabin' 'fountain'\n",
      " 'rainforest' 'forest_road' 'ski_slope' 'forest_road' 'art_school'\n",
      " 'airplane_cabin' 'amusement_park' 'forest_road' 'galley'\n",
      " 'television_studio' 'submarine_interior' 'airplane_cabin' 'highway'\n",
      " 'shopfront' 'recreation_room' 'coffee_shop' 'ramp' 'airplane_cabin'\n",
      " 'airplane_cabin' 'airplane_cabin' 'forest_road' 'forest_road' 'beach'\n",
      " 'sky' 'railway_yard' 'building_facade' 'bar' 'bathroom' 'banquet_hall'\n",
      " 'seawall' 'airplane_cabin' 'gas_station' 'nightclub' 'forest_road'\n",
      " 'forest_road' 'airplane_cabin' 'forest_road' 'airplane_cabin'\n",
      " 'lecture_room' 'resort' 'park' 'forest_road' 'forest_road' 'dining_hall'\n",
      " 'rock_arch' 'bayou' 'attic' 'forest_road' 'beach' 'office_cubicles'\n",
      " 'airplane_cabin' 'airplane_cabin' 'campsite' 'picnic_area' 'city'\n",
      " 'forest_road' 'bowling_alley' 'park' 'forest_road' 'airplane_cabin'\n",
      " 'mansion' 'palace' 'cliff' 'science_museum' 'pasture' 'ocean'\n",
      " 'amphitheater' 'golf_course' 'archive' 'motel' 'physics_laboratory'\n",
      " 'river' 'dorm_room' 'lawn' 'amusement_park' 'building_facade'\n",
      " 'schoolhouse' 'fence' 'orchard' 'plaza' 'forest_road' 'newsroom' 'ocean'\n",
      " 'bayou' 'airplane_cabin' 'ski_resort' 'airplane_cabin' 'lawn' 'yard'\n",
      " 'elevator_lobby' 'gas_station' 'forest_road' 'airplane_cabin' 'gorge'\n",
      " 'forest_road' 'vineyard' 'bathroom' 'golf_course' 'park' 'forest_road'\n",
      " 'crosswalk' 'airfield' 'bicycle_racks' 'amusement_arcade' 'armory'\n",
      " 'gas_station' 'bridge' 'park' 'piano_store' 'airplane_cabin' 'pagoda'\n",
      " 'fence' 'airplane_cabin' 'forest_road' 'glacier' 'coast' 'beach'\n",
      " 'forest_road' 'downtown' 'forest_road' 'clothing_store' 'voting_booth'\n",
      " 'forest_road' 'train_railway' 'forest_road' 'watering_hole' 'forest_road'\n",
      " 'airplane_cabin' 'forest_road' 'street' 'downtown' 'village' 'dining_car'\n",
      " 'forest_road' 'park' 'forest_road' 'office_building' 'art_school'\n",
      " 'airplane_cabin' 'repair_shop' 'forest_road' 'ocean' 'forest_road'\n",
      " 'cheese_factory' 'forest_road' 'watering_hole' 'forest_road' 'badlands'\n",
      " 'freeway' 'hospital' 'forest_road' 'forest_road' 'baseball_field'\n",
      " 'forest_road' 'airplane_cabin' 'clothing_store' 'airplane_cabin'\n",
      " 'forest_road' 'ski_slope' 'watering_hole' 'parking_lot' 'courtyard'\n",
      " 'railway_yard' 'airplane_cabin' 'gas_station' 'naval_base' 'butchers_shop'\n",
      " 'fishpond' 'bamboo_forest' 'forest_road' 'videostore' 'bus_interior'\n",
      " 'forest_road' 'lab_classroom' 'roof' 'kindergarden_classroom' 'pet_shop'\n",
      " 'resort' 'banquet_hall' 'creek' 'raceway' 'forest_road' 'dining_car'\n",
      " 'cafeteria' 'airplane_cabin' 'amusement_park' 'forest_road' 'forest_road'\n",
      " 'city' 'forest_road' 'cliff' 'ramp' 'palace' 'science_museum'\n",
      " 'forest_road' 'canteen' 'galley' 'newsroom' 'forest_road' 'nightclub'\n",
      " 'canteen' 'village' 'coffee_shop' 'downtown' 'forest_road'\n",
      " 'building_facade' 'forest_road' 'trailer_park' 'forest_road' 'dining_hall'\n",
      " 'forest_road' 'airplane_cabin' 'forest_road' 'forest_road' 'shower'\n",
      " 'drugstore' 'mountain' 'airplane_cabin' 'gift_shop' 'submarine_interior'\n",
      " 'science_museum' 'kindergarden_classroom' 'dining_room' 'oasis' 'seawall'\n",
      " 'voting_booth' 'physics_laboratory' 'bayou' 'seawall' 'forest_road'\n",
      " 'chapel' 'voting_booth' 'ice_shelf' 'ranch' 'playground' 'dentists_office'\n",
      " 'newsroom' 'forest_road' 'forest_road' 'forest_road' 'railway_yard'\n",
      " 'airplane_cabin' 'yard' 'butchers_shop' 'city' 'forest_road' 'valley'\n",
      " 'downtown' 'sandbar' 'forest_road' 'archive' 'forest_road' 'art_school'\n",
      " 'shoe_shop' 'courthouse' 'park' 'forest_road' 'closet' 'cafeteria'\n",
      " 'bedroom' 'forest_road' 'newsroom' 'gorge' 'armory' 'forest_road'\n",
      " 'forest_road' 'forest_road' 'windmill' 'river' 'bedroom' 'forest_road'\n",
      " 'forest_road' 'baseball_field' 'watering_hole' 'fountain' 'forest_road'\n",
      " 'forest_road' 'pavilion' 'assembly_line' 'airplane_cabin' 'forest_road'\n",
      " 'plaza' 'forest_road' 'forest_road' 'cafeteria' 'forest_road'\n",
      " 'forest_road' 'bar' 'crosswalk' 'ocean' 'glacier' 'bar' 'desert_road'\n",
      " 'cottage_garden' 'valley' 'dorm_room' 'airplane_cabin' 'roof'\n",
      " 'mountain_road' 'mansion' 'office_building' 'forest_road' 'forest_road'\n",
      " 'chapel' 'airplane_cabin' 'art_school' 'voting_booth' 'watering_hole'\n",
      " 'train_railway' 'airplane_cabin' 'fence' 'naval_base' 'forest_road'\n",
      " 'canteen' 'ranch_house' 'tower' 'pagoda' 'auditorium' 'airplane_cabin'\n",
      " 'raceway' 'forest_road' 'forest_road' 'voting_booth' 'ranch' 'courtroom'\n",
      " 'classroom' 'physics_laboratory' 'gas_station' 'bowling_alley' 'mountain'\n",
      " 'courtyard' 'art_school' 'forest_road' 'mine' 'nightclub' 'forest_road'\n",
      " 'naval_base' 'forest_road' 'shoe_shop' 'parlor' 'elevator_lobby'\n",
      " 'forest_road' 'sawmill' 'fort' 'bookstore' 'art_studio' 'forest_road'\n",
      " 'bicycle_racks' 'aquatic_theater' 'boat_deck' 'water_tower'\n",
      " 'watering_hole' 'construction_site' 'computer_room' 'freeway' 'canteen'\n",
      " 'ice_shelf' 'shower' 'campsite' 'submarine_interior' 'street' 'mountain'\n",
      " 'dentists_office' 'crosswalk' 'snowfield' 'art_school' 'forest_road'\n",
      " 'forest_road' 'badlands' 'art_school' 'classroom' 'cemetery' 'rubble'\n",
      " 'forest_road' 'forest_road' 'forest_road' 'crosswalk' 'hill' 'courtroom'\n",
      " 'valley' 'forest_road' 'airplane_cabin' 'supermarket' 'forest_road'\n",
      " 'tower' 'chapel' 'airplane_cabin' 'pasture' 'village' 'canteen' 'beach'\n",
      " 'airplane_cabin' 'forest_road' 'harbor' 'sky' 'art_studio' 'voting_booth'\n",
      " 'seawall' 'picnic_area' 'village' 'canteen' 'sawmill' 'manhole'\n",
      " 'art_school' 'sandbar' 'windmill' 'ocean' 'courthouse' 'plaza' 'badlands'\n",
      " 'amphitheater' 'television_studio' 'amphitheater' 'ski_resort' 'chapel'\n",
      " 'airplane_cabin' 'amphitheater' 'art_school' 'canteen' 'forest_road'\n",
      " 'newsroom' 'raceway' 'water_tower' 'forest_road' 'elevator_lobby'\n",
      " 'airplane_cabin' 'mansion' 'forest_road' 'forest_road' 'city' 'ski_slope'\n",
      " 'rainforest' 'tea_garden' 'canteen' 'airplane_cabin' 'lawn'\n",
      " 'limousine_interior' 'creek' 'newsroom' 'ski_slope' 'airfield'\n",
      " 'amusement_arcade' 'airplane_cabin' 'forest_road' 'pagoda'\n",
      " 'airplane_cabin' 'hill' 'golf_course' 'raceway' 'pet_shop' 'river'\n",
      " 'forest_road' 'yard' 'forest_road' 'piano_store' 'bookstore' 'schoolhouse'\n",
      " 'galley' 'submarine_interior' 'forest_road' 'clothing_store' 'parking_lot'\n",
      " 'trailer_park' 'forest_road' 'lawn' 'lawn' 'bus_interior' 'pavilion'\n",
      " 'voting_booth' 'corridor' 'newsroom' 'harbor' 'assembly_line'\n",
      " 'banquet_hall' 'river' 'bookstore' 'airplane_cabin' 'piano_store'\n",
      " 'piano_store' 'banquet_hall' 'dining_hall' 'shower' 'airplane_cabin'\n",
      " 'forest_road' 'baseball_field' 'forest_road' 'aquatic_theater' 'basement'\n",
      " 'forest_road' 'tea_garden' 'bamboo_forest' 'dentists_office' 'bookstore'\n",
      " 'dining_car' 'volcano' 'forest_road' 'physics_laboratory' 'forest_road'\n",
      " 'lawn' 'art_school' 'palace' 'airplane_cabin' 'courtroom' 'palace' 'attic'\n",
      " 'forest_road' 'canteen' 'skyscraper' 'forest_road' 'forest_road'\n",
      " 'cemetery' 'parlor' 'amusement_park' 'mountain_road' 'aquarium' 'cliff'\n",
      " 'auditorium' 'closet' 'airplane_cabin' 'forest_road' 'forest_road'\n",
      " 'aquarium' 'sky' 'glacier' 'playground' 'forest_road' 'bar' 'shopfront'\n",
      " 'forest_road' 'dining_hall' 'forest_road' 'swamp' 'art_school'\n",
      " 'bowling_alley' 'airplane_cabin' 'forest_road' 'dining_hall' 'fence'\n",
      " 'mountain' 'airplane_cabin' 'airplane_cabin' 'airplane_cabin' 'corridor'\n",
      " 'cottage' 'forest_road' 'reception' 'corridor' 'dorm_room' 'phone_booth'\n",
      " 'reception' 'canteen' 'lecture_room' 'piano_store' 'bowling_alley'\n",
      " 'forest_road' 'aquarium' 'supermarket' 'forest_road' 'bowling_alley'\n",
      " 'crosswalk' 'forest_road' 'forest_road' 'bar' 'assembly_line'\n",
      " 'forest_road' 'forest_road' 'forest_road' 'butchers_shop' 'tea_garden']\n"
     ]
    }
   ],
   "source": [
    "print predicts"
   ]
  },
  {
   "cell_type": "code",
   "execution_count": 69,
   "metadata": {
    "collapsed": true
   },
   "outputs": [],
   "source": [
    "import csv\n",
    "with open(\"semi_supervised_logreg_result.txt\",'w') as f:\n",
    "    writer = csv.writer(f)\n",
    "    writer.writerow([\"ID\",\"Category\"])\n",
    "    for i in range(len(predicts)):\n",
    "        writer.writerow([test_id[i],predicts[i]])"
   ]
  },
  {
   "cell_type": "code",
   "execution_count": null,
   "metadata": {
    "collapsed": true
   },
   "outputs": [],
   "source": []
  }
 ],
 "metadata": {
  "kernelspec": {
   "display_name": "Python 2",
   "language": "python",
   "name": "python2"
  },
  "language_info": {
   "codemirror_mode": {
    "name": "ipython",
    "version": 2
   },
   "file_extension": ".py",
   "mimetype": "text/x-python",
   "name": "python",
   "nbconvert_exporter": "python",
   "pygments_lexer": "ipython2",
   "version": "2.7.10"
  }
 },
 "nbformat": 4,
 "nbformat_minor": 0
}
