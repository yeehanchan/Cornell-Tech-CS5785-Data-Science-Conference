{
 "cells": [
  {
   "cell_type": "code",
   "execution_count": 1,
   "metadata": {
    "collapsed": false
   },
   "outputs": [
    {
     "name": "stdout",
     "output_type": "stream",
     "text": [
      "Populating the interactive namespace from numpy and matplotlib\n"
     ]
    }
   ],
   "source": [
    "%pylab inline\n",
    "import rlcompleter, readline\n",
    "readline.parse_and_bind('tab: complete')\n",
    "from sklearn import grid_search"
   ]
  },
  {
   "cell_type": "code",
   "execution_count": 276,
   "metadata": {
    "collapsed": false
   },
   "outputs": [],
   "source": [
    "alexnet_train = np.load(\"CS5785-final-data/alexnet_feat_train.npy\")\n",
    "sift_train = np.load(\"CS5785-final-data/SIFTBoW_train.npy\")\n",
    "sift_test = np.load(\"CS5785-final-data/SIFTBoW_test.npy\")\n",
    "train = np.genfromtxt(\"CS5785-final-data/train.txt\",dtype='str')\n",
    "alexnet_test = np.load(\"CS5785-final-data/alexnet_feat_test.npy\")\n",
    "test_id = np.genfromtxt(\"CS5785-final-data/test.txt\",dtype='str')\n",
    "logreg = np.genfromtxt(\"logreg_result.txt\",dtype='str',delimiter=',')[1:,1]\n",
    "svn_result = np.genfromtxt(\"svn_result\",dtype='str',delimiter=',')[1:,1]\n",
    "ovrSVN_result = np.genfromtxt(\"ovrSVN_result\",dtype='str',delimiter=',')[1:,1]\n",
    "train_label = list(train[:,1])"
   ]
  },
  {
   "cell_type": "code",
   "execution_count": 289,
   "metadata": {
    "collapsed": false
   },
   "outputs": [],
   "source": [
    "from sklearn.preprocessing import scale\n",
    "from sklearn.preprocessing import normalize\n",
    "#normal_alexnet = normalize(alexnet_train,norm='l2',axis=1,copy=True)\n",
    "scale_alexnet = scale(alexnet_train, axis=0, with_mean=True, with_std=True, copy=True)\n",
    "scale_sift = scale(sift_train,axis=0, with_mean=True, with_std=True, copy=True)\n",
    "scale_sift = scale(scale_sift,axis=1, with_mean=True, with_std=True, copy=True)\n",
    "scale_alexnet_test = scale(alexnet_test, axis=0, with_mean=True, with_std=True, copy=True)\n",
    "scale_sift_test = scale(sift_test, axis=0, with_mean=True, with_std=True, copy=True)\n",
    "scale_sift_test = scale(scale_sift_test, axis=0, with_mean=True, with_std=True, copy=True)"
   ]
  },
  {
   "cell_type": "code",
   "execution_count": 154,
   "metadata": {
    "collapsed": false
   },
   "outputs": [
    {
     "name": "stdout",
     "output_type": "stream",
     "text": [
      "(3000, 102)\n"
     ]
    }
   ],
   "source": [
    "with open(\"CS5785-final-data/attributes_train.txt\") as f:\n",
    "    attributes = []\n",
    "    for line in f:\n",
    "        line = line.strip().split(\" \")\n",
    "        imageId = line[0]\n",
    "        attr = line[1].split(',')\n",
    "        attributes.append(attr)\n",
    "        \n",
    "#        print [int(a) for a in attr]\n",
    "attributes = np.asarray(attributes,dtype='float')\n",
    "print attributes.shape\n"
   ]
  },
  {
   "cell_type": "code",
   "execution_count": 155,
   "metadata": {
    "collapsed": false
   },
   "outputs": [
    {
     "name": "stdout",
     "output_type": "stream",
     "text": [
      "(1000, 102)\n"
     ]
    }
   ],
   "source": [
    "with open(\"CS5785-final-data/attributes_test.txt\") as f:\n",
    "    attributes_test = []\n",
    "    for line in f:\n",
    "        line = line.strip().split(\" \")\n",
    "        imageId_test = line[0]\n",
    "        attr = line[1].split(',')\n",
    "        attributes_test.append(attr)\n",
    "#        print [int(a) for a in attr]\n",
    "attributes_test = np.asarray(attributes_test,dtype='float')\n",
    "print attributes_test.shape"
   ]
  },
  {
   "cell_type": "code",
   "execution_count": 119,
   "metadata": {
    "collapsed": true
   },
   "outputs": [],
   "source": [
    "from sklearn.linear_model import LogisticRegression\n",
    "from sklearn.svm import SVC\n",
    "from sklearn import cross_validation\n",
    "from sklearn.naive_bayes import BernoulliNB\n",
    "from sklearn.naive_bayes import GaussianNB"
   ]
  },
  {
   "cell_type": "code",
   "execution_count": 290,
   "metadata": {
    "collapsed": false
   },
   "outputs": [
    {
     "name": "stdout",
     "output_type": "stream",
     "text": [
      "0.1 [ 0.14        0.13833333  0.145       0.14        0.14      ] 0.140666666667\n",
      "0.1 [ 0.13833333  0.145       0.15166667  0.15166667  0.13333333] 0.144\n",
      "0.1 [ 0.135       0.13666667  0.14333333  0.14333333  0.125     ] 0.136666666667\n",
      "0.1 [ 0.14333333  0.14833333  0.13166667  0.145       0.135     ] 0.140666666667\n",
      "0.1 [ 0.14        0.14666667  0.135       0.14666667  0.13666667] 0.141\n",
      "0.1 [ 0.14166667  0.14666667  0.13833333  0.145       0.135     ] 0.141333333333\n",
      "0.1 [ 0.14166667  0.14833333  0.15333333  0.145       0.14      ] 0.145666666667\n",
      "0.1 [ 0.14166667  0.14833333  0.155       0.14166667  0.145     ] 0.146333333333\n",
      "0.1 [ 0.15833333  0.14333333  0.12666667  0.135       0.13333333] 0.139333333333\n",
      "0.3 [ 0.135       0.14166667  0.15        0.13333333  0.12833333] 0.137666666667\n",
      "0.3 [ 0.135       0.145       0.15333333  0.14166667  0.13666667] 0.142333333333\n",
      "0.3 [ 0.135       0.14666667  0.14333333  0.13333333  0.135     ] 0.138666666667\n",
      "0.3 [ 0.13666667  0.15        0.13666667  0.14166667  0.13833333] 0.140666666667\n",
      "0.3 [ 0.135       0.14666667  0.13833333  0.14666667  0.13333333] 0.14\n",
      "0.3 [ 0.14333333  0.15        0.13833333  0.13166667  0.12666667] 0.138\n",
      "0.3 [ 0.14333333  0.15333333  0.14666667  0.12833333  0.135     ] 0.141333333333\n",
      "0.3 [ 0.15        0.15666667  0.15333333  0.13333333  0.145     ] 0.147666666667\n",
      "0.3 [ 0.15        0.14        0.12833333  0.13        0.13833333] 0.137333333333\n",
      "0.5 [ 0.14        0.145       0.14833333  0.12833333  0.13166667] 0.138666666667\n",
      "0.5 [ 0.13666667  0.145       0.15        0.13666667  0.13833333] 0.141333333333\n",
      "0.5 [ 0.13333333  0.145       0.14333333  0.13166667  0.14166667] 0.139\n",
      "0.5 [ 0.13833333  0.14666667  0.14333333  0.13833333  0.135     ] 0.140333333333\n",
      "0.5 [ 0.14166667  0.15        0.14333333  0.13833333  0.13333333] 0.141333333333\n",
      "0.5 [ 0.145       0.14833333  0.13833333  0.13166667  0.12833333] 0.138333333333\n",
      "0.5 [ 0.14166667  0.15166667  0.14666667  0.125       0.13      ] 0.139\n",
      "0.5 [ 0.145       0.15333333  0.15        0.135       0.14      ] 0.144666666667\n",
      "0.5 [ 0.14        0.14166667  0.125       0.125       0.13333333] 0.133\n",
      "0.8 [ 0.135       0.14666667  0.145       0.115       0.13666667] 0.135666666667\n",
      "0.8 [ 0.13        0.14333333  0.13833333  0.125       0.135     ] 0.134333333333\n",
      "0.8 [ 0.12166667  0.14666667  0.14166667  0.125       0.14166667] 0.135333333333\n",
      "0.8 [ 0.13166667  0.14666667  0.14333333  0.12833333  0.13333333] 0.136666666667\n",
      "0.8 [ 0.14        0.14833333  0.145       0.12333333  0.13666667] 0.138666666667\n",
      "0.8 [ 0.13833333  0.14666667  0.14        0.125       0.13666667] 0.137333333333\n",
      "0.8 [ 0.13666667  0.14833333  0.14166667  0.125       0.12666667] 0.135666666667\n",
      "0.8 [ 0.12666667  0.14666667  0.14666667  0.12833333  0.14333333] 0.138333333333\n",
      "0.8 [ 0.14        0.14333333  0.12666667  0.125       0.14      ] 0.135\n"
     ]
    }
   ],
   "source": [
    "for a in [0.1,0.3,0.5,0.8]:\n",
    "    for b in [0.1,0.2,0.3,0.4,0.5,0.6,0.7,0.8,0.9]:\n",
    "        bnb_sift = BernoulliNB(alpha=a, binarize=b, fit_prior=True, class_prior=None)\n",
    "        bnb_score_sift = cross_validation.cross_val_score(bnb_sift,scale_sift,train_label,cv=5)\n",
    "        print a,bnb_score_sift,bnb_score_sift.mean()"
   ]
  },
  {
   "cell_type": "code",
   "execution_count": 335,
   "metadata": {
    "collapsed": false
   },
   "outputs": [
    {
     "name": "stdout",
     "output_type": "stream",
     "text": [
      "0.1 0.150666666667\n",
      "0.5 0.150666666667\n",
      "1 0.150666666667\n"
     ]
    }
   ],
   "source": [
    "for c in [0.1,0.5,1]:\n",
    "        svn = SVC(kernel='linear',C=c,gamma=0.001)\n",
    "        svn_score = cross_validation.cross_val_score(svn,scale_sift,train_label,cv=5)\n",
    "        print c,svn_score.mean()"
   ]
  },
  {
   "cell_type": "code",
   "execution_count": 336,
   "metadata": {
    "collapsed": true
   },
   "outputs": [],
   "source": [
    "bnb_sift = BernoulliNB(alpha=0.3, binarize=0.8, fit_prior=True, class_prior=None)"
   ]
  },
  {
   "cell_type": "code",
   "execution_count": 23,
   "metadata": {
    "collapsed": false,
    "scrolled": true
   },
   "outputs": [
    {
     "name": "stdout",
     "output_type": "stream",
     "text": [
      "0.12 [ 0.41166667  0.41666667  0.41666667  0.43333333  0.42166667] 0.42\n",
      "0.13 [ 0.415       0.41666667  0.41833333  0.43333333  0.42333333] 0.421333333333\n",
      "0.14 [ 0.415       0.42        0.41833333  0.43333333  0.42      ] 0.421333333333\n"
     ]
    }
   ],
   "source": [
    "for a in [0.12,0.13,0.14]:\n",
    "    bnb = BernoulliNB(alpha=a, binarize=0.8, fit_prior=True, class_prior=None)\n",
    "    bnb_score = cross_validation.cross_val_score(bnb,scale_alexnet,train_label,cv=5)\n",
    "    print a,bnb_score,bnb_score.mean()"
   ]
  },
  {
   "cell_type": "code",
   "execution_count": 24,
   "metadata": {
    "collapsed": false
   },
   "outputs": [],
   "source": [
    "bnb = BernoulliNB(alpha=0.14, binarize=0.8, fit_prior=True, class_prior=None)"
   ]
  },
  {
   "cell_type": "code",
   "execution_count": 156,
   "metadata": {
    "collapsed": false
   },
   "outputs": [
    {
     "name": "stdout",
     "output_type": "stream",
     "text": [
      "1.5 0.9 [ 0.32166667  0.33        0.35        0.29        0.32166667] 0.322666666667\n"
     ]
    }
   ],
   "source": [
    "bnb_attributes = BernoulliNB(fit_prior=True, class_prior=None)\n",
    "bnb_attributes_score = cross_validation.cross_val_score(bnb_attributes,attributes,train_label,cv=5)\n",
    "print a,b,bnb_attributes_score,bnb_attributes_score.mean()"
   ]
  },
  {
   "cell_type": "code",
   "execution_count": 157,
   "metadata": {
    "collapsed": false
   },
   "outputs": [
    {
     "name": "stdout",
     "output_type": "stream",
     "text": [
      "1.5 [ 0.29666667  0.31166667  0.32166667  0.31        0.29666667] 0.307333333333\n"
     ]
    }
   ],
   "source": [
    "from sklearn.naive_bayes import MultinomialNB\n",
    "mnb = MultinomialNB(alpha=a, fit_prior=True, class_prior=None)\n",
    "score = cross_validation.cross_val_score(mnb,attributes,train_label,cv=5)\n",
    "print a,score,score.mean()"
   ]
  },
  {
   "cell_type": "code",
   "execution_count": 296,
   "metadata": {
    "collapsed": true
   },
   "outputs": [],
   "source": [
    "bnb_sift.fit(scale_sift,train_label)\n",
    "sift_predicts = bnb_sift.predict_proba(scale_sift_test) "
   ]
  },
  {
   "cell_type": "code",
   "execution_count": 345,
   "metadata": {
    "collapsed": false
   },
   "outputs": [],
   "source": [
    "bnb.fit(scale_alexnet,train_label)\n",
    "alexnet_predicts = bnb.predict_proba(scale_alexnet_test) "
   ]
  },
  {
   "cell_type": "code",
   "execution_count": 346,
   "metadata": {
    "collapsed": false
   },
   "outputs": [],
   "source": [
    "bnb_attributes.fit(attributes,train_label)\n",
    "attribute_predicts = bnb_attributes.predict_proba(attributes_test) "
   ]
  },
  {
   "cell_type": "code",
   "execution_count": 302,
   "metadata": {
    "collapsed": false
   },
   "outputs": [
    {
     "name": "stdout",
     "output_type": "stream",
     "text": [
      "(1000, 200)\n"
     ]
    }
   ],
   "source": [
    "print attribute_predicts.shape"
   ]
  },
  {
   "cell_type": "code",
   "execution_count": 347,
   "metadata": {
    "collapsed": false
   },
   "outputs": [],
   "source": [
    "categories = bnb.classes_"
   ]
  },
  {
   "cell_type": "code",
   "execution_count": 348,
   "metadata": {
    "collapsed": false
   },
   "outputs": [
    {
     "name": "stdout",
     "output_type": "stream",
     "text": [
      "(1000, 200)\n"
     ]
    }
   ],
   "source": [
    "from sets import Set\n",
    "def cross_set_vote(p1,p2):\n",
    "    vote = []\n",
    "    for i in range(len(p1)):\n",
    "        x = 0.6*p1[i] + 0.4*p2[i]\n",
    "        vote.append(x)\n",
    "    return np.asarray(vote)\n",
    "vote = cross_set_vote(alexnet_predicts,attribute_predicts)\n",
    "print vote.shape"
   ]
  },
  {
   "cell_type": "code",
   "execution_count": 349,
   "metadata": {
    "collapsed": false
   },
   "outputs": [],
   "source": [
    "def decision(vote):\n",
    "    final_vote = []\n",
    "    for each in vote:\n",
    "        final_vote.append([categories[i] for i in range(len(each)) if each[i] == max(each)])\n",
    "    return final_vote\n",
    "crossset_vote = decision(vote)"
   ]
  },
  {
   "cell_type": "code",
   "execution_count": 339,
   "metadata": {
    "collapsed": false
   },
   "outputs": [],
   "source": [
    "crossset_vote = list(crossset_vote)"
   ]
  },
  {
   "cell_type": "code",
   "execution_count": 350,
   "metadata": {
    "collapsed": true
   },
   "outputs": [],
   "source": [
    "import csv\n",
    "with open(\"crossset_vote_new2\",'w') as f:\n",
    "    writer = csv.writer(f)\n",
    "    writer.writerow([\"ID\",\"Category\"])\n",
    "    for i in range(len(crossset_vote)):\n",
    "        writer.writerow([test_id[i],crossset_vote[i][0]])"
   ]
  },
  {
   "cell_type": "code",
   "execution_count": 203,
   "metadata": {
    "collapsed": false
   },
   "outputs": [
    {
     "ename": "IOError",
     "evalue": "/CS5785-final-data/logreg_result.txt not found.",
     "output_type": "error",
     "traceback": [
      "\u001b[0;31m---------------------------------------------------------------------------\u001b[0m",
      "\u001b[0;31mIOError\u001b[0m                                   Traceback (most recent call last)",
      "\u001b[0;32m<ipython-input-203-ee9b9b20c971>\u001b[0m in \u001b[0;36m<module>\u001b[0;34m()\u001b[0m\n\u001b[0;32m----> 1\u001b[0;31m \u001b[0mlogreg\u001b[0m \u001b[0;34m=\u001b[0m \u001b[0mnp\u001b[0m\u001b[0;34m.\u001b[0m\u001b[0mgenfromtxt\u001b[0m\u001b[0;34m(\u001b[0m\u001b[0;34m\"/CS5785-final-data/logreg_result.txt\"\u001b[0m\u001b[0;34m)\u001b[0m\u001b[0;34m\u001b[0m\u001b[0m\n\u001b[0m",
      "\u001b[0;32m/Users/yeehanchan/anaconda/lib/python2.7/site-packages/numpy/lib/npyio.pyc\u001b[0m in \u001b[0;36mgenfromtxt\u001b[0;34m(fname, dtype, comments, delimiter, skip_header, skip_footer, converters, missing_values, filling_values, usecols, names, excludelist, deletechars, replace_space, autostrip, case_sensitive, defaultfmt, unpack, usemask, loose, invalid_raise, max_rows)\u001b[0m\n\u001b[1;32m   1446\u001b[0m         \u001b[0;32mif\u001b[0m \u001b[0misinstance\u001b[0m\u001b[0;34m(\u001b[0m\u001b[0mfname\u001b[0m\u001b[0;34m,\u001b[0m \u001b[0mbasestring\u001b[0m\u001b[0;34m)\u001b[0m\u001b[0;34m:\u001b[0m\u001b[0;34m\u001b[0m\u001b[0m\n\u001b[1;32m   1447\u001b[0m             \u001b[0;32mif\u001b[0m \u001b[0msys\u001b[0m\u001b[0;34m.\u001b[0m\u001b[0mversion_info\u001b[0m\u001b[0;34m[\u001b[0m\u001b[0;36m0\u001b[0m\u001b[0;34m]\u001b[0m \u001b[0;34m==\u001b[0m \u001b[0;36m2\u001b[0m\u001b[0;34m:\u001b[0m\u001b[0;34m\u001b[0m\u001b[0m\n\u001b[0;32m-> 1448\u001b[0;31m                 \u001b[0mfhd\u001b[0m \u001b[0;34m=\u001b[0m \u001b[0miter\u001b[0m\u001b[0;34m(\u001b[0m\u001b[0mnp\u001b[0m\u001b[0;34m.\u001b[0m\u001b[0mlib\u001b[0m\u001b[0;34m.\u001b[0m\u001b[0m_datasource\u001b[0m\u001b[0;34m.\u001b[0m\u001b[0mopen\u001b[0m\u001b[0;34m(\u001b[0m\u001b[0mfname\u001b[0m\u001b[0;34m,\u001b[0m \u001b[0;34m'rbU'\u001b[0m\u001b[0;34m)\u001b[0m\u001b[0;34m)\u001b[0m\u001b[0;34m\u001b[0m\u001b[0m\n\u001b[0m\u001b[1;32m   1449\u001b[0m             \u001b[0;32melse\u001b[0m\u001b[0;34m:\u001b[0m\u001b[0;34m\u001b[0m\u001b[0m\n\u001b[1;32m   1450\u001b[0m                 \u001b[0mfhd\u001b[0m \u001b[0;34m=\u001b[0m \u001b[0miter\u001b[0m\u001b[0;34m(\u001b[0m\u001b[0mnp\u001b[0m\u001b[0;34m.\u001b[0m\u001b[0mlib\u001b[0m\u001b[0;34m.\u001b[0m\u001b[0m_datasource\u001b[0m\u001b[0;34m.\u001b[0m\u001b[0mopen\u001b[0m\u001b[0;34m(\u001b[0m\u001b[0mfname\u001b[0m\u001b[0;34m,\u001b[0m \u001b[0;34m'rb'\u001b[0m\u001b[0;34m)\u001b[0m\u001b[0;34m)\u001b[0m\u001b[0;34m\u001b[0m\u001b[0m\n",
      "\u001b[0;32m/Users/yeehanchan/anaconda/lib/python2.7/site-packages/numpy/lib/_datasource.pyc\u001b[0m in \u001b[0;36mopen\u001b[0;34m(path, mode, destpath)\u001b[0m\n\u001b[1;32m    149\u001b[0m \u001b[0;34m\u001b[0m\u001b[0m\n\u001b[1;32m    150\u001b[0m     \u001b[0mds\u001b[0m \u001b[0;34m=\u001b[0m \u001b[0mDataSource\u001b[0m\u001b[0;34m(\u001b[0m\u001b[0mdestpath\u001b[0m\u001b[0;34m)\u001b[0m\u001b[0;34m\u001b[0m\u001b[0m\n\u001b[0;32m--> 151\u001b[0;31m     \u001b[0;32mreturn\u001b[0m \u001b[0mds\u001b[0m\u001b[0;34m.\u001b[0m\u001b[0mopen\u001b[0m\u001b[0;34m(\u001b[0m\u001b[0mpath\u001b[0m\u001b[0;34m,\u001b[0m \u001b[0mmode\u001b[0m\u001b[0;34m)\u001b[0m\u001b[0;34m\u001b[0m\u001b[0m\n\u001b[0m\u001b[1;32m    152\u001b[0m \u001b[0;34m\u001b[0m\u001b[0m\n\u001b[1;32m    153\u001b[0m \u001b[0;34m\u001b[0m\u001b[0m\n",
      "\u001b[0;32m/Users/yeehanchan/anaconda/lib/python2.7/site-packages/numpy/lib/_datasource.pyc\u001b[0m in \u001b[0;36mopen\u001b[0;34m(self, path, mode)\u001b[0m\n\u001b[1;32m    499\u001b[0m             \u001b[0;32mreturn\u001b[0m \u001b[0m_file_openers\u001b[0m\u001b[0;34m[\u001b[0m\u001b[0mext\u001b[0m\u001b[0;34m]\u001b[0m\u001b[0;34m(\u001b[0m\u001b[0mfound\u001b[0m\u001b[0;34m,\u001b[0m \u001b[0mmode\u001b[0m\u001b[0;34m=\u001b[0m\u001b[0mmode\u001b[0m\u001b[0;34m)\u001b[0m\u001b[0;34m\u001b[0m\u001b[0m\n\u001b[1;32m    500\u001b[0m         \u001b[0;32melse\u001b[0m\u001b[0;34m:\u001b[0m\u001b[0;34m\u001b[0m\u001b[0m\n\u001b[0;32m--> 501\u001b[0;31m             \u001b[0;32mraise\u001b[0m \u001b[0mIOError\u001b[0m\u001b[0;34m(\u001b[0m\u001b[0;34m\"%s not found.\"\u001b[0m \u001b[0;34m%\u001b[0m \u001b[0mpath\u001b[0m\u001b[0;34m)\u001b[0m\u001b[0;34m\u001b[0m\u001b[0m\n\u001b[0m\u001b[1;32m    502\u001b[0m \u001b[0;34m\u001b[0m\u001b[0m\n\u001b[1;32m    503\u001b[0m \u001b[0;34m\u001b[0m\u001b[0m\n",
      "\u001b[0;31mIOError\u001b[0m: /CS5785-final-data/logreg_result.txt not found."
     ]
    }
   ],
   "source": []
  },
  {
   "cell_type": "code",
   "execution_count": 268,
   "metadata": {
    "collapsed": false
   },
   "outputs": [],
   "source": [
    "logreg = logreg[1:,1]"
   ]
  },
  {
   "cell_type": "code",
   "execution_count": 269,
   "metadata": {
    "collapsed": false
   },
   "outputs": [],
   "source": [
    "svn_result = svn_result[1:,1]"
   ]
  },
  {
   "cell_type": "code",
   "execution_count": 259,
   "metadata": {
    "collapsed": false
   },
   "outputs": [
    {
     "name": "stdout",
     "output_type": "stream",
     "text": [
      "(1000,)\n"
     ]
    }
   ],
   "source": [
    "print svn_result.shape"
   ]
  },
  {
   "cell_type": "code",
   "execution_count": null,
   "metadata": {
    "collapsed": true
   },
   "outputs": [],
   "source": []
  }
 ],
 "metadata": {
  "kernelspec": {
   "display_name": "Python 2",
   "language": "python",
   "name": "python2"
  },
  "language_info": {
   "codemirror_mode": {
    "name": "ipython",
    "version": 2
   },
   "file_extension": ".py",
   "mimetype": "text/x-python",
   "name": "python",
   "nbconvert_exporter": "python",
   "pygments_lexer": "ipython2",
   "version": "2.7.10"
  }
 },
 "nbformat": 4,
 "nbformat_minor": 0
}
