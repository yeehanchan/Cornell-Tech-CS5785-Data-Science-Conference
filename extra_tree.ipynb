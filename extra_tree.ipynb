{
 "cells": [
  {
   "cell_type": "code",
   "execution_count": 2,
   "metadata": {
    "collapsed": false
   },
   "outputs": [
    {
     "name": "stdout",
     "output_type": "stream",
     "text": [
      "Populating the interactive namespace from numpy and matplotlib\n"
     ]
    }
   ],
   "source": [
    "%pylab inline\n",
    "import rlcompleter, readline\n",
    "readline.parse_and_bind('tab: complete')\n",
    "from sklearn import grid_search\n",
    "alexnet_train = np.load(\"CS5785-final-data/alexnet_feat_train.npy\")\n",
    "sift_train = np.load(\"CS5785-final-data/SIFTBoW_train.npy\")\n",
    "attribute = np.genfromtxt(\"CS5785-final-data/attributes_train.txt\",dtype='str')[:,1]\n",
    "train = np.genfromtxt(\"CS5785-final-data/train.txt\",dtype='str')\n",
    "alexnet_test = np.load(\"CS5785-final-data/alexnet_feat_test.npy\")\n",
    "test_id = np.genfromtxt(\"CS5785-final-data/test.txt\",dtype='str')\n",
    "train_label = list(train[:,1])\n",
    "from sklearn import cross_validation"
   ]
  },
  {
   "cell_type": "code",
   "execution_count": null,
   "metadata": {
    "collapsed": false
   },
   "outputs": [],
   "source": [
    "from sklearn.ensemble import ExtraTreesClassifier\n",
    "for n in [500,800,1000]:\n",
    "    etc = ExtraTreesClassifier(n_estimators=n, criterion='gini', max_depth=None, min_samples_split=2, min_samples_leaf=1, min_weight_fraction_leaf=0.0, max_features='auto', max_leaf_nodes=None, bootstrap=False, oob_score=False,random_state=None, verbose=0,class_weight=None)\n",
    "    score = cross_validation.cross_val_score(etc,alexnet_train,train_label,cv=5)\n",
    "    print n,score,score.mean()"
   ]
  },
  {
   "cell_type": "code",
   "execution_count": null,
   "metadata": {
    "collapsed": true
   },
   "outputs": [],
   "source": []
  }
 ],
 "metadata": {
  "kernelspec": {
   "display_name": "Python 2",
   "language": "python",
   "name": "python2"
  },
  "language_info": {
   "codemirror_mode": {
    "name": "ipython",
    "version": 2
   },
   "file_extension": ".py",
   "mimetype": "text/x-python",
   "name": "python",
   "nbconvert_exporter": "python",
   "pygments_lexer": "ipython2",
   "version": "2.7.10"
  }
 },
 "nbformat": 4,
 "nbformat_minor": 0
}
